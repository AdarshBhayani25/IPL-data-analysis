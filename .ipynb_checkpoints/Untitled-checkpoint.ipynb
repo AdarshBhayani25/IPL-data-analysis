{
 "cells": [
  {
   "cell_type": "code",
   "execution_count": 105,
   "id": "c6115362-837c-4e93-b138-5742bc1ef7ac",
   "metadata": {},
   "outputs": [
    {
     "ename": "SyntaxError",
     "evalue": "invalid syntax (2619621748.py, line 4)",
     "output_type": "error",
     "traceback": [
      "\u001b[1;36m  Cell \u001b[1;32mIn[105], line 4\u001b[1;36m\u001b[0m\n\u001b[1;33m    pip install matplotlib seaborn pandas\u001b[0m\n\u001b[1;37m        ^\u001b[0m\n\u001b[1;31mSyntaxError\u001b[0m\u001b[1;31m:\u001b[0m invalid syntax\n"
     ]
    }
   ],
   "source": [
    "from pyspark.sql import SparkSession \n",
    "from pyspark.sql.types import StructType, StructField, IntegerType, StringType, DateType, FloatType, BooleanType\n",
    "from pyspark.sql.functions import *"
   ]
  },
  {
   "cell_type": "code",
   "execution_count": 106,
   "id": "ffd643c8-e047-407c-8b17-86cbb5a27e0e",
   "metadata": {},
   "outputs": [
    {
     "name": "stdout",
     "output_type": "stream",
     "text": [
      "Collecting matplotlib\n",
      "  Downloading matplotlib-3.9.2-cp310-cp310-win_amd64.whl.metadata (11 kB)\n",
      "Collecting seaborn\n",
      "  Downloading seaborn-0.13.2-py3-none-any.whl.metadata (5.4 kB)\n",
      "Requirement already satisfied: pandas in c:\\users\\adarsh\\appdata\\local\\programs\\python\\python310\\lib\\site-packages (2.2.1)\n",
      "Collecting contourpy>=1.0.1 (from matplotlib)\n",
      "  Downloading contourpy-1.3.0-cp310-cp310-win_amd64.whl.metadata (5.4 kB)\n",
      "Collecting cycler>=0.10 (from matplotlib)\n",
      "  Using cached cycler-0.12.1-py3-none-any.whl.metadata (3.8 kB)\n",
      "Collecting fonttools>=4.22.0 (from matplotlib)\n",
      "  Downloading fonttools-4.53.1-cp310-cp310-win_amd64.whl.metadata (165 kB)\n",
      "     ---------------------------------------- 0.0/165.9 kB ? eta -:--:--\n",
      "     ------- -------------------------------- 30.7/165.9 kB ? eta -:--:--\n",
      "     -------------- ------------------------ 61.4/165.9 kB 1.1 MB/s eta 0:00:01\n",
      "     --------------------- ----------------- 92.2/165.9 kB 1.1 MB/s eta 0:00:01\n",
      "     -----------------------------------  163.8/165.9 kB 893.0 kB/s eta 0:00:01\n",
      "     ------------------------------------ 165.9/165.9 kB 828.1 kB/s eta 0:00:00\n",
      "Collecting kiwisolver>=1.3.1 (from matplotlib)\n",
      "  Downloading kiwisolver-1.4.7-cp310-cp310-win_amd64.whl.metadata (6.4 kB)\n",
      "Requirement already satisfied: numpy>=1.23 in c:\\users\\adarsh\\appdata\\local\\programs\\python\\python310\\lib\\site-packages (from matplotlib) (1.26.4)\n",
      "Requirement already satisfied: packaging>=20.0 in c:\\users\\adarsh\\appdata\\local\\programs\\python\\python310\\lib\\site-packages (from matplotlib) (24.0)\n",
      "Requirement already satisfied: pillow>=8 in c:\\users\\adarsh\\appdata\\local\\programs\\python\\python310\\lib\\site-packages (from matplotlib) (10.3.0)\n",
      "Collecting pyparsing>=2.3.1 (from matplotlib)\n",
      "  Downloading pyparsing-3.1.4-py3-none-any.whl.metadata (5.1 kB)\n",
      "Requirement already satisfied: python-dateutil>=2.7 in c:\\users\\adarsh\\appdata\\local\\programs\\python\\python310\\lib\\site-packages (from matplotlib) (2.9.0.post0)\n",
      "Requirement already satisfied: pytz>=2020.1 in c:\\users\\adarsh\\appdata\\local\\programs\\python\\python310\\lib\\site-packages (from pandas) (2024.1)\n",
      "Requirement already satisfied: tzdata>=2022.7 in c:\\users\\adarsh\\appdata\\local\\programs\\python\\python310\\lib\\site-packages (from pandas) (2024.1)\n",
      "Requirement already satisfied: six>=1.5 in c:\\users\\adarsh\\appdata\\local\\programs\\python\\python310\\lib\\site-packages (from python-dateutil>=2.7->matplotlib) (1.16.0)\n",
      "Downloading matplotlib-3.9.2-cp310-cp310-win_amd64.whl (7.8 MB)\n",
      "   ---------------------------------------- 0.0/7.8 MB ? eta -:--:--\n",
      "   ---------------------------------------- 0.1/7.8 MB 1.5 MB/s eta 0:00:06\n",
      "    --------------------------------------- 0.2/7.8 MB 1.8 MB/s eta 0:00:05\n",
      "   - -------------------------------------- 0.2/7.8 MB 1.7 MB/s eta 0:00:05\n",
      "   - -------------------------------------- 0.3/7.8 MB 1.6 MB/s eta 0:00:05\n",
      "   - -------------------------------------- 0.3/7.8 MB 1.5 MB/s eta 0:00:05\n",
      "   -- ------------------------------------- 0.4/7.8 MB 1.5 MB/s eta 0:00:05\n",
      "   -- ------------------------------------- 0.5/7.8 MB 1.5 MB/s eta 0:00:05\n",
      "   -- ------------------------------------- 0.6/7.8 MB 1.5 MB/s eta 0:00:05\n",
      "   --- ------------------------------------ 0.7/7.8 MB 1.6 MB/s eta 0:00:05\n",
      "   ---- ----------------------------------- 0.8/7.8 MB 1.7 MB/s eta 0:00:05\n",
      "   ---- ----------------------------------- 0.9/7.8 MB 1.7 MB/s eta 0:00:05\n",
      "   ----- ---------------------------------- 1.0/7.8 MB 1.9 MB/s eta 0:00:04\n",
      "   ----- ---------------------------------- 1.1/7.8 MB 1.8 MB/s eta 0:00:04\n",
      "   ------ --------------------------------- 1.2/7.8 MB 1.8 MB/s eta 0:00:04\n",
      "   ------ --------------------------------- 1.3/7.8 MB 1.9 MB/s eta 0:00:04\n",
      "   ------- -------------------------------- 1.5/7.8 MB 2.0 MB/s eta 0:00:04\n",
      "   -------- ------------------------------- 1.6/7.8 MB 2.0 MB/s eta 0:00:04\n",
      "   --------- ------------------------------ 1.8/7.8 MB 2.1 MB/s eta 0:00:03\n",
      "   --------- ------------------------------ 1.9/7.8 MB 2.2 MB/s eta 0:00:03\n",
      "   ---------- ----------------------------- 2.1/7.8 MB 2.3 MB/s eta 0:00:03\n",
      "   ----------- ---------------------------- 2.3/7.8 MB 2.3 MB/s eta 0:00:03\n",
      "   ------------ --------------------------- 2.4/7.8 MB 2.4 MB/s eta 0:00:03\n",
      "   ------------- -------------------------- 2.7/7.8 MB 2.5 MB/s eta 0:00:03\n",
      "   -------------- ------------------------- 2.8/7.8 MB 2.5 MB/s eta 0:00:03\n",
      "   --------------- ------------------------ 3.0/7.8 MB 2.6 MB/s eta 0:00:02\n",
      "   ---------------- ----------------------- 3.2/7.8 MB 2.6 MB/s eta 0:00:02\n",
      "   ----------------- ---------------------- 3.4/7.8 MB 2.7 MB/s eta 0:00:02\n",
      "   ------------------ --------------------- 3.6/7.8 MB 2.8 MB/s eta 0:00:02\n",
      "   ------------------- -------------------- 3.8/7.8 MB 2.9 MB/s eta 0:00:02\n",
      "   -------------------- ------------------- 4.1/7.8 MB 2.9 MB/s eta 0:00:02\n",
      "   --------------------- ------------------ 4.2/7.8 MB 2.9 MB/s eta 0:00:02\n",
      "   ---------------------- ----------------- 4.5/7.8 MB 3.0 MB/s eta 0:00:02\n",
      "   ------------------------ --------------- 4.7/7.8 MB 3.1 MB/s eta 0:00:02\n",
      "   ------------------------- -------------- 4.9/7.8 MB 3.1 MB/s eta 0:00:01\n",
      "   -------------------------- ------------- 5.1/7.8 MB 3.1 MB/s eta 0:00:01\n",
      "   --------------------------- ------------ 5.3/7.8 MB 3.2 MB/s eta 0:00:01\n",
      "   --------------------------- ------------ 5.4/7.8 MB 3.2 MB/s eta 0:00:01\n",
      "   --------------------------- ------------ 5.4/7.8 MB 3.2 MB/s eta 0:00:01\n",
      "   --------------------------- ------------ 5.4/7.8 MB 3.0 MB/s eta 0:00:01\n",
      "   ----------------------------- ---------- 5.7/7.8 MB 3.1 MB/s eta 0:00:01\n",
      "   ----------------------------- ---------- 5.8/7.8 MB 3.0 MB/s eta 0:00:01\n",
      "   ----------------------------- ---------- 5.8/7.8 MB 3.0 MB/s eta 0:00:01\n",
      "   ----------------------------- ---------- 5.8/7.8 MB 3.0 MB/s eta 0:00:01\n",
      "   ------------------------------ --------- 6.0/7.8 MB 2.9 MB/s eta 0:00:01\n",
      "   ------------------------------- -------- 6.2/7.8 MB 3.0 MB/s eta 0:00:01\n",
      "   -------------------------------- ------- 6.3/7.8 MB 2.9 MB/s eta 0:00:01\n",
      "   -------------------------------- ------- 6.3/7.8 MB 2.9 MB/s eta 0:00:01\n",
      "   -------------------------------- ------- 6.3/7.8 MB 2.9 MB/s eta 0:00:01\n",
      "   --------------------------------- ------ 6.5/7.8 MB 2.8 MB/s eta 0:00:01\n",
      "   ---------------------------------- ----- 6.7/7.8 MB 2.9 MB/s eta 0:00:01\n",
      "   ---------------------------------- ----- 6.8/7.8 MB 2.9 MB/s eta 0:00:01\n",
      "   ---------------------------------- ----- 6.8/7.8 MB 2.9 MB/s eta 0:00:01\n",
      "   ----------------------------------- ---- 6.9/7.8 MB 2.8 MB/s eta 0:00:01\n",
      "   ------------------------------------ --- 7.2/7.8 MB 2.9 MB/s eta 0:00:01\n",
      "   ------------------------------------- -- 7.4/7.8 MB 2.9 MB/s eta 0:00:01\n",
      "   ------------------------------------- -- 7.4/7.8 MB 2.9 MB/s eta 0:00:01\n",
      "   ------------------------------------- -- 7.4/7.8 MB 2.9 MB/s eta 0:00:01\n",
      "   -------------------------------------- - 7.5/7.8 MB 2.8 MB/s eta 0:00:01\n",
      "   ---------------------------------------  7.8/7.8 MB 2.9 MB/s eta 0:00:01\n",
      "   ---------------------------------------- 7.8/7.8 MB 2.8 MB/s eta 0:00:00\n",
      "Downloading seaborn-0.13.2-py3-none-any.whl (294 kB)\n",
      "   ---------------------------------------- 0.0/294.9 kB ? eta -:--:--\n",
      "   -------------------------------------- - 286.7/294.9 kB 8.9 MB/s eta 0:00:01\n",
      "   ---------------------------------------- 294.9/294.9 kB 6.1 MB/s eta 0:00:00\n",
      "Downloading contourpy-1.3.0-cp310-cp310-win_amd64.whl (216 kB)\n",
      "   ---------------------------------------- 0.0/216.0 kB ? eta -:--:--\n",
      "   ----------------- ---------------------- 92.2/216.0 kB ? eta -:--:--\n",
      "   ----------------- ---------------------- 92.2/216.0 kB ? eta -:--:--\n",
      "   ---------------------------------------  215.0/216.0 kB 1.6 MB/s eta 0:00:01\n",
      "   ---------------------------------------- 216.0/216.0 kB 1.5 MB/s eta 0:00:00\n",
      "Using cached cycler-0.12.1-py3-none-any.whl (8.3 kB)\n",
      "Downloading fonttools-4.53.1-cp310-cp310-win_amd64.whl (2.2 MB)\n",
      "   ---------------------------------------- 0.0/2.2 MB ? eta -:--:--\n",
      "   ----- ---------------------------------- 0.3/2.2 MB 8.6 MB/s eta 0:00:01\n",
      "   --------- ------------------------------ 0.5/2.2 MB 6.7 MB/s eta 0:00:01\n",
      "   ------------- -------------------------- 0.7/2.2 MB 5.7 MB/s eta 0:00:01\n",
      "   ------------- -------------------------- 0.7/2.2 MB 5.7 MB/s eta 0:00:01\n",
      "   -------------- ------------------------- 0.8/2.2 MB 3.8 MB/s eta 0:00:01\n",
      "   ------------------- -------------------- 1.1/2.2 MB 4.0 MB/s eta 0:00:01\n",
      "   --------------------- ------------------ 1.2/2.2 MB 4.1 MB/s eta 0:00:01\n",
      "   --------------------- ------------------ 1.2/2.2 MB 3.4 MB/s eta 0:00:01\n",
      "   --------------------- ------------------ 1.2/2.2 MB 3.4 MB/s eta 0:00:01\n",
      "   --------------------- ------------------ 1.2/2.2 MB 3.4 MB/s eta 0:00:01\n",
      "   ----------------------------- ---------- 1.6/2.2 MB 3.3 MB/s eta 0:00:01\n",
      "   ------------------------------ --------- 1.7/2.2 MB 3.0 MB/s eta 0:00:01\n",
      "   ------------------------------- -------- 1.8/2.2 MB 3.1 MB/s eta 0:00:01\n",
      "   -------------------------------- ------- 1.8/2.2 MB 2.7 MB/s eta 0:00:01\n",
      "   ---------------------------------- ----- 1.9/2.2 MB 2.8 MB/s eta 0:00:01\n",
      "   ---------------------------------------  2.2/2.2 MB 3.0 MB/s eta 0:00:01\n",
      "   ---------------------------------------- 2.2/2.2 MB 2.9 MB/s eta 0:00:00\n",
      "Downloading kiwisolver-1.4.7-cp310-cp310-win_amd64.whl (55 kB)\n",
      "   ---------------------------------------- 0.0/55.9 kB ? eta -:--:--\n",
      "   ---------------------------------------- 55.9/55.9 kB 3.0 MB/s eta 0:00:00\n",
      "Downloading pyparsing-3.1.4-py3-none-any.whl (104 kB)\n",
      "   ---------------------------------------- 0.0/104.1 kB ? eta -:--:--\n",
      "   ---------------------------------------- 104.1/104.1 kB 3.0 MB/s eta 0:00:00\n",
      "Installing collected packages: pyparsing, kiwisolver, fonttools, cycler, contourpy, matplotlib, seaborn\n",
      "Successfully installed contourpy-1.3.0 cycler-0.12.1 fonttools-4.53.1 kiwisolver-1.4.7 matplotlib-3.9.2 pyparsing-3.1.4 seaborn-0.13.2\n",
      "Note: you may need to restart the kernel to use updated packages.\n"
     ]
    },
    {
     "name": "stderr",
     "output_type": "stream",
     "text": [
      "\n",
      "[notice] A new release of pip is available: 24.0 -> 24.2\n",
      "[notice] To update, run: C:\\Users\\adarsh\\AppData\\Local\\Programs\\Python\\Python310\\python.exe -m pip install --upgrade pip\n"
     ]
    }
   ],
   "source": [
    "pip install matplotlib seaborn pandas"
   ]
  },
  {
   "cell_type": "code",
   "execution_count": 107,
   "id": "4d640246-10ca-46b7-af6d-fa121f82a320",
   "metadata": {},
   "outputs": [],
   "source": [
    "import matplotlib.pyplot as plt\n",
    "import pandas as pd"
   ]
  },
  {
   "cell_type": "code",
   "execution_count": 3,
   "id": "5b9e1578-70ce-4fa6-aae5-438a1f68f586",
   "metadata": {},
   "outputs": [],
   "source": [
    "spark = SparkSession.builder.appName(\"ipl data analysis\").getOrCreate()"
   ]
  },
  {
   "cell_type": "code",
   "execution_count": 5,
   "id": "fc3ba1df-9ab1-4a1d-a605-1acb657b7f86",
   "metadata": {},
   "outputs": [
    {
     "data": {
      "text/html": [
       "\n",
       "            <div>\n",
       "                <p><b>SparkSession - in-memory</b></p>\n",
       "                \n",
       "        <div>\n",
       "            <p><b>SparkContext</b></p>\n",
       "\n",
       "            <p><a href=\"http://Minion:4040\">Spark UI</a></p>\n",
       "\n",
       "            <dl>\n",
       "              <dt>Version</dt>\n",
       "                <dd><code>v3.5.2</code></dd>\n",
       "              <dt>Master</dt>\n",
       "                <dd><code>local[*]</code></dd>\n",
       "              <dt>AppName</dt>\n",
       "                <dd><code>ipl data analysis</code></dd>\n",
       "            </dl>\n",
       "        </div>\n",
       "        \n",
       "            </div>\n",
       "        "
      ],
      "text/plain": [
       "<pyspark.sql.session.SparkSession at 0x2394b1abe80>"
      ]
     },
     "execution_count": 5,
     "metadata": {},
     "output_type": "execute_result"
    }
   ],
   "source": [
    "spark"
   ]
  },
  {
   "cell_type": "code",
   "execution_count": 169,
   "id": "979dd6f1-65a9-41e5-8445-a9d5735d80da",
   "metadata": {},
   "outputs": [],
   "source": [
    "deliveries_schema = StructType([\n",
    "    StructField(\"match_id\", IntegerType(), True),\n",
    "    StructField(\"inning\", IntegerType(), True),\n",
    "    StructField(\"batting_team\", StringType(), True),\n",
    "    StructField(\"bowling_team\", StringType(), True),\n",
    "    StructField(\"over\", IntegerType(), True),\n",
    "    StructField(\"ball\", IntegerType(), True),\n",
    "    StructField(\"batter\", StringType(), True),\n",
    "    StructField(\"bowler\", StringType(), True),\n",
    "    StructField(\"non_striker\", StringType(), True),\n",
    "    StructField(\"batsman_runs\", IntegerType(), True),\n",
    "    StructField(\"extra_runs\", IntegerType(), True),\n",
    "    StructField(\"total_runs\", IntegerType(), True),\n",
    "    StructField(\"extras_type\", StringType(), True),\n",
    "    StructField(\"is_wicket\", IntegerType(), True),\n",
    "    StructField(\"player_dismissed\", StringType(), True),\n",
    "    StructField(\"dismissal_kind\", StringType(), True),\n",
    "    StructField(\"fielder\", StringType(), True)\n",
    "])"
   ]
  },
  {
   "cell_type": "code",
   "execution_count": 170,
   "id": "bdfb287e-dad3-4c08-8c18-30bfc0138faf",
   "metadata": {},
   "outputs": [],
   "source": [
    "deliveries_df = spark.read.csv(\"./IPL data/deliveries.csv\" , header = True , schema = deliveries_schema ) "
   ]
  },
  {
   "cell_type": "code",
   "execution_count": 180,
   "id": "28845c19-6cf5-46a1-b59a-610fa982511c",
   "metadata": {},
   "outputs": [
    {
     "name": "stdout",
     "output_type": "stream",
     "text": [
      "+--------+------+--------------------+--------------------+----+----+----------+----------+-------------+------------+----------+----------+-----------+---------+----------------+--------------+---------------+\n",
      "|match_id|inning|        batting_team|        bowling_team|over|ball|    batter|    bowler|  non_striker|batsman_runs|extra_runs|total_runs|extras_type|is_wicket|player_dismissed|dismissal_kind|        fielder|\n",
      "+--------+------+--------------------+--------------------+----+----+----------+----------+-------------+------------+----------+----------+-----------+---------+----------------+--------------+---------------+\n",
      "|  335982|     1|Kolkata Knight Ri...|Royal Challengers...|   5|   2|SC Ganguly|    Z Khan|  BB McCullum|           0|         0|         0|       NULL|        1|      SC Ganguly|        caught|      JH Kallis|\n",
      "|  335982|     1|Kolkata Knight Ri...|Royal Challengers...|  12|   1|RT Ponting| JH Kallis|  BB McCullum|           0|         0|         0|       NULL|        1|      RT Ponting|        caught|        P Kumar|\n",
      "|  335982|     1|Kolkata Knight Ri...|Royal Challengers...|  17|   1| DJ Hussey| AA Noffke|  BB McCullum|           0|         0|         0|       NULL|        1|       DJ Hussey|        caught|       CL White|\n",
      "|  335982|     2|Royal Challengers...|Kolkata Knight Ri...|   1|   1|  R Dravid|  I Sharma|     W Jaffer|           0|         0|         0|       NULL|        1|        R Dravid|        bowled|             NA|\n",
      "|  335982|     2|Royal Challengers...|Kolkata Knight Ri...|   2|   2|   V Kohli|  AB Dinda|     W Jaffer|           0|         0|         0|       NULL|        1|         V Kohli|        bowled|             NA|\n",
      "|  335982|     2|Royal Challengers...|Kolkata Knight Ri...|   4|   5| JH Kallis|AB Agarkar|     W Jaffer|           0|         0|         0|       NULL|        1|       JH Kallis|        caught|       M Kartik|\n",
      "|  335982|     2|Royal Challengers...|Kolkata Knight Ri...|   5|   2|  W Jaffer|  AB Dinda|     CL White|           0|         0|         0|       NULL|        1|        W Jaffer|        caught|     RT Ponting|\n",
      "|  335982|     2|Royal Challengers...|Kolkata Knight Ri...|   7|   5|MV Boucher|SC Ganguly|     CL White|           0|         0|         0|       NULL|        1|      MV Boucher|        caught|       M Kartik|\n",
      "|  335982|     2|Royal Challengers...|Kolkata Knight Ri...|   8|   2|   B Akhil|AB Agarkar|     CL White|           0|         0|         0|       NULL|        1|         B Akhil|        caught|     RT Ponting|\n",
      "|  335982|     2|Royal Challengers...|Kolkata Knight Ri...|   8|   8|  CL White|AB Agarkar|    AA Noffke|           0|         0|         0|       NULL|        1|        CL White|        caught|        WP Saha|\n",
      "|  335982|     2|Royal Challengers...|Kolkata Knight Ri...|  11|   1| AA Noffke|SC Ganguly|      P Kumar|           1|         0|         1|       NULL|        1|       AA Noffke|       run out|     AB Agarkar|\n",
      "|  335982|     2|Royal Challengers...|Kolkata Knight Ri...|  13|   1|    Z Khan|SC Ganguly|      P Kumar|           0|         0|         0|       NULL|        1|          Z Khan|        bowled|             NA|\n",
      "|  335982|     2|Royal Challengers...|Kolkata Knight Ri...|  15|   2|  SB Joshi| LR Shukla|      P Kumar|           0|         0|         0|       NULL|        1|        SB Joshi|        caught|    BB McCullum|\n",
      "|  335983|     1| Chennai Super Kings|     Kings XI Punjab|   2|   5|  PA Patel|     B Lee|    ML Hayden|           0|         0|         0|       NULL|        1|        PA Patel|        caught|  KC Sangakkara|\n",
      "|  335983|     1| Chennai Super Kings|     Kings XI Punjab|   6|   2| ML Hayden| IK Pathan|   MEK Hussey|           0|         0|         0|       NULL|        1|       ML Hayden|        bowled|             NA|\n",
      "|  335983|     1| Chennai Super Kings|     Kings XI Punjab|   7|   1|  MS Dhoni|  JR Hopes|   MEK Hussey|           0|         0|         0|       NULL|        1|        MS Dhoni|           lbw|             NA|\n",
      "|  335983|     1| Chennai Super Kings|     Kings XI Punjab|  12|   2|  SK Raina|   WA Mota|   MEK Hussey|           0|         0|         0|       NULL|        1|        SK Raina|        caught|      IK Pathan|\n",
      "|  335983|     1| Chennai Super Kings|     Kings XI Punjab|  15|   3|  JDP Oram| IK Pathan|   MEK Hussey|           0|         0|         0|       NULL|        1|        JDP Oram|        bowled|             NA|\n",
      "|  335983|     2|     Kings XI Punjab| Chennai Super Kings|   5|   6|    K Goel|   MS Gony|     JR Hopes|           0|         0|         0|       NULL|        1|          K Goel|        caught|       PA Patel|\n",
      "|  335983|     2|     Kings XI Punjab| Chennai Super Kings|  10|   2|  JR Hopes|P Amarnath|KC Sangakkara|           0|         0|         0|       NULL|        1|        JR Hopes|        caught|Joginder Sharma|\n",
      "+--------+------+--------------------+--------------------+----+----+----------+----------+-------------+------------+----------+----------+-----------+---------+----------------+--------------+---------------+\n",
      "only showing top 20 rows\n",
      "\n"
     ]
    }
   ],
   "source": [
    "deliveries_df.filter(col(\"is_wicket\") == 1).show()"
   ]
  },
  {
   "cell_type": "code",
   "execution_count": 177,
   "id": "371f5eff-b9c6-4414-babd-ed79608f665f",
   "metadata": {},
   "outputs": [
    {
     "name": "stdout",
     "output_type": "stream",
     "text": [
      "root\n",
      " |-- match_id: integer (nullable = true)\n",
      " |-- inning: integer (nullable = true)\n",
      " |-- batting_team: string (nullable = true)\n",
      " |-- bowling_team: string (nullable = true)\n",
      " |-- over: integer (nullable = true)\n",
      " |-- ball: integer (nullable = true)\n",
      " |-- batter: string (nullable = true)\n",
      " |-- bowler: string (nullable = true)\n",
      " |-- non_striker: string (nullable = true)\n",
      " |-- batsman_runs: integer (nullable = true)\n",
      " |-- extra_runs: integer (nullable = true)\n",
      " |-- total_runs: integer (nullable = true)\n",
      " |-- extras_type: string (nullable = true)\n",
      " |-- is_wicket: integer (nullable = true)\n",
      " |-- player_dismissed: string (nullable = true)\n",
      " |-- dismissal_kind: string (nullable = true)\n",
      " |-- fielder: string (nullable = true)\n",
      "\n"
     ]
    }
   ],
   "source": [
    "deliveries_df.printSchema()"
   ]
  },
  {
   "cell_type": "code",
   "execution_count": 178,
   "id": "c204ae12-bdc3-4575-842b-08f5b03a467b",
   "metadata": {},
   "outputs": [],
   "source": [
    "df = spark.read.csv(\"./IPL data/deliveries.csv\" , header = True , schema = deliveries_schema ) "
   ]
  },
  {
   "cell_type": "code",
   "execution_count": 179,
   "id": "02a693a2-1c44-472b-9863-ff19dc3ed438",
   "metadata": {},
   "outputs": [],
   "source": [
    "df.createOrReplaceTempView(\"IPL_DATA\")"
   ]
  },
  {
   "cell_type": "code",
   "execution_count": 35,
   "id": "4dbde41c-7d97-4251-bd04-55a084df4f38",
   "metadata": {},
   "outputs": [],
   "source": [
    "query = f\"\"\"\n",
    "SELECT COUNT(*) AS boundaries \n",
    "FROM IPL_DATA \n",
    "WHERE batting_team = 'Chennai Super Kings' AND bowling_team = 'Mumbai Indians' AND batsman_runs >= 4  \n",
    "\"\"\"\n",
    "df_2 = spark.sql(query)"
   ]
  },
  {
   "cell_type": "code",
   "execution_count": 36,
   "id": "544065d2-d978-401d-8261-efc3a2871c6e",
   "metadata": {},
   "outputs": [
    {
     "name": "stdout",
     "output_type": "stream",
     "text": [
      "+----------+\n",
      "|boundaries|\n",
      "+----------+\n",
      "|       701|\n",
      "+----------+\n",
      "\n"
     ]
    }
   ],
   "source": [
    "df_2.show()"
   ]
  },
  {
   "cell_type": "code",
   "execution_count": 44,
   "id": "e749c88b-a799-4409-8a7f-6b33eaefa383",
   "metadata": {},
   "outputs": [],
   "source": [
    "matches_df = spark.read.csv(\"./IPL data/matches.csv\", header=True , inferSchema = True)"
   ]
  },
  {
   "cell_type": "code",
   "execution_count": 45,
   "id": "634a1c67-f1c5-44b3-8833-052d96a3d0ae",
   "metadata": {},
   "outputs": [
    {
     "name": "stdout",
     "output_type": "stream",
     "text": [
      "root\n",
      " |-- id: integer (nullable = true)\n",
      " |-- season: string (nullable = true)\n",
      " |-- city: string (nullable = true)\n",
      " |-- date: date (nullable = true)\n",
      " |-- match_type: string (nullable = true)\n",
      " |-- player_of_match: string (nullable = true)\n",
      " |-- venue: string (nullable = true)\n",
      " |-- team1: string (nullable = true)\n",
      " |-- team2: string (nullable = true)\n",
      " |-- toss_winner: string (nullable = true)\n",
      " |-- toss_decision: string (nullable = true)\n",
      " |-- winner: string (nullable = true)\n",
      " |-- result: string (nullable = true)\n",
      " |-- result_margin: string (nullable = true)\n",
      " |-- target_runs: string (nullable = true)\n",
      " |-- target_overs: string (nullable = true)\n",
      " |-- super_over: string (nullable = true)\n",
      " |-- method: string (nullable = true)\n",
      " |-- umpire1: string (nullable = true)\n",
      " |-- umpire2: string (nullable = true)\n",
      "\n"
     ]
    }
   ],
   "source": [
    "matches_df.printSchema()"
   ]
  },
  {
   "cell_type": "code",
   "execution_count": 47,
   "id": "41d28c4b-227d-4c82-bb00-f69e3426bdb1",
   "metadata": {},
   "outputs": [],
   "source": [
    "matches_schema = StructType([\n",
    "    StructField(\"id\", IntegerType(), True),\n",
    "    StructField(\"season\", IntegerType(), True),\n",
    "    StructField(\"city\", StringType(), True),\n",
    "    StructField(\"date\", DateType(), True),\n",
    "    StructField(\"match_type\", StringType(), True),\n",
    "    StructField(\"player_of_match\", StringType(), True),\n",
    "    StructField(\"venue\", StringType(), True),\n",
    "    StructField(\"team1\", StringType(), True),\n",
    "    StructField(\"team2\", StringType(), True),\n",
    "    StructField(\"toss_winner\", StringType(), True),\n",
    "    StructField(\"toss_decision\", StringType(), True),\n",
    "    StructField(\"winner\", StringType(), True),\n",
    "    StructField(\"result\", StringType(), True),\n",
    "    StructField(\"result_margin\", IntegerType(), True),\n",
    "    StructField(\"target_runs\", IntegerType(), True),\n",
    "    StructField(\"target_overs\", FloatType(), True),\n",
    "    StructField(\"super_over\", BooleanType(), True),\n",
    "    StructField(\"method\", StringType(), True),\n",
    "    StructField(\"umpire1\", StringType(), True),\n",
    "    StructField(\"umpire2\", StringType(), True)\n",
    "])"
   ]
  },
  {
   "cell_type": "code",
   "execution_count": 49,
   "id": "1aa623b7-ef53-49f4-b9ee-c571e89e8139",
   "metadata": {},
   "outputs": [],
   "source": [
    "matches_df = spark.read.csv(\"./IPL data/matches.csv\", header=True , schema = matches_schema)"
   ]
  },
  {
   "cell_type": "code",
   "execution_count": 50,
   "id": "728ea176-0213-471c-8d92-ea8e166670cd",
   "metadata": {},
   "outputs": [
    {
     "name": "stdout",
     "output_type": "stream",
     "text": [
      "+------+------+----------+----------+----------+---------------+--------------------+--------------------+--------------------+--------------------+-------------+--------------------+-------+-------------+-----------+------------+----------+------+-----------+--------------+\n",
      "|    id|season|      city|      date|match_type|player_of_match|               venue|               team1|               team2|         toss_winner|toss_decision|              winner| result|result_margin|target_runs|target_overs|super_over|method|    umpire1|       umpire2|\n",
      "+------+------+----------+----------+----------+---------------+--------------------+--------------------+--------------------+--------------------+-------------+--------------------+-------+-------------+-----------+------------+----------+------+-----------+--------------+\n",
      "|335982|  NULL| Bangalore|2008-04-18|    League|    BB McCullum|M Chinnaswamy Sta...|Royal Challengers...|Kolkata Knight Ri...|Royal Challengers...|        field|Kolkata Knight Ri...|   runs|          140|        223|        20.0|      NULL|    NA|  Asad Rauf|   RE Koertzen|\n",
      "|335983|  NULL|Chandigarh|2008-04-19|    League|     MEK Hussey|Punjab Cricket As...|     Kings XI Punjab| Chennai Super Kings| Chennai Super Kings|          bat| Chennai Super Kings|   runs|           33|        241|        20.0|      NULL|    NA|  MR Benson|    SL Shastri|\n",
      "|335984|  NULL|     Delhi|2008-04-19|    League|    MF Maharoof|    Feroz Shah Kotla|    Delhi Daredevils|    Rajasthan Royals|    Rajasthan Royals|          bat|    Delhi Daredevils|wickets|            9|        130|        20.0|      NULL|    NA|  Aleem Dar|GA Pratapkumar|\n",
      "|335985|  NULL|    Mumbai|2008-04-20|    League|     MV Boucher|    Wankhede Stadium|      Mumbai Indians|Royal Challengers...|      Mumbai Indians|          bat|Royal Challengers...|wickets|            5|        166|        20.0|      NULL|    NA|   SJ Davis|     DJ Harper|\n",
      "|335986|  NULL|   Kolkata|2008-04-20|    League|      DJ Hussey|        Eden Gardens|Kolkata Knight Ri...|     Deccan Chargers|     Deccan Chargers|          bat|Kolkata Knight Ri...|wickets|            5|        111|        20.0|      NULL|    NA|  BF Bowden|   K Hariharan|\n",
      "|335987|  NULL|    Jaipur|2008-04-21|    League|      SR Watson|Sawai Mansingh St...|    Rajasthan Royals|     Kings XI Punjab|     Kings XI Punjab|          bat|    Rajasthan Royals|wickets|            6|        167|        20.0|      NULL|    NA|  Aleem Dar|     RB Tiffin|\n",
      "|335988|  NULL| Hyderabad|2008-04-22|    League|       V Sehwag|Rajiv Gandhi Inte...|     Deccan Chargers|    Delhi Daredevils|     Deccan Chargers|          bat|    Delhi Daredevils|wickets|            9|        143|        20.0|      NULL|    NA|  IL Howell|     AM Saheba|\n",
      "|335989|  NULL|   Chennai|2008-04-23|    League|      ML Hayden|MA Chidambaram St...| Chennai Super Kings|      Mumbai Indians|      Mumbai Indians|        field| Chennai Super Kings|   runs|            6|        209|        20.0|      NULL|    NA|  DJ Harper|GA Pratapkumar|\n",
      "|335990|  NULL| Hyderabad|2008-04-24|    League|      YK Pathan|Rajiv Gandhi Inte...|     Deccan Chargers|    Rajasthan Royals|    Rajasthan Royals|        field|    Rajasthan Royals|wickets|            3|        215|        20.0|      NULL|    NA|  Asad Rauf|     MR Benson|\n",
      "|335991|  NULL|Chandigarh|2008-04-25|    League|  KC Sangakkara|Punjab Cricket As...|     Kings XI Punjab|      Mumbai Indians|      Mumbai Indians|        field|     Kings XI Punjab|   runs|           66|        183|        20.0|      NULL|    NA|  Aleem Dar|     AM Saheba|\n",
      "|335992|  NULL| Bangalore|2008-04-26|    League|      SR Watson|M Chinnaswamy Sta...|Royal Challengers...|    Rajasthan Royals|    Rajasthan Royals|        field|    Rajasthan Royals|wickets|            7|        136|        20.0|      NULL|    NA|  MR Benson|     IL Howell|\n",
      "|335993|  NULL|   Chennai|2008-04-26|    League|       JDP Oram|MA Chidambaram St...| Chennai Super Kings|Kolkata Knight Ri...|Kolkata Knight Ri...|          bat| Chennai Super Kings|wickets|            9|        148|        20.0|      NULL|    NA|  BF Bowden|AV Jayaprakash|\n",
      "|335994|  NULL|    Mumbai|2008-04-27|    League|   AC Gilchrist|Dr DY Patil Sport...|      Mumbai Indians|     Deccan Chargers|     Deccan Chargers|        field|     Deccan Chargers|wickets|           10|        155|        20.0|      NULL|    NA|  Asad Rauf|    SL Shastri|\n",
      "|335995|  NULL|Chandigarh|2008-04-27|    League|      SM Katich|Punjab Cricket As...|     Kings XI Punjab|    Delhi Daredevils|    Delhi Daredevils|          bat|     Kings XI Punjab|wickets|            4|        159|        20.0|      NULL|    NA|RE Koertzen|     I Shivram|\n",
      "|335996|  NULL| Bangalore|2008-04-28|    League|       MS Dhoni|M Chinnaswamy Sta...|Royal Challengers...| Chennai Super Kings| Chennai Super Kings|          bat| Chennai Super Kings|   runs|           13|        179|        20.0|      NULL|    NA|BR Doctrove|     RB Tiffin|\n",
      "|335997|  NULL|   Kolkata|2008-04-29|    League|  ST Jayasuriya|        Eden Gardens|Kolkata Knight Ri...|      Mumbai Indians|Kolkata Knight Ri...|          bat|      Mumbai Indians|wickets|            7|        138|        20.0|      NULL|    NA|  BF Bowden|AV Jayaprakash|\n",
      "|335998|  NULL|     Delhi|2008-04-30|    League|     GD McGrath|    Feroz Shah Kotla|    Delhi Daredevils|Royal Challengers...|Royal Challengers...|        field|    Delhi Daredevils|   runs|           10|        192|        20.0|      NULL|    NA|  Aleem Dar|     I Shivram|\n",
      "|335999|  NULL| Hyderabad|2008-05-01|    League|       SE Marsh|Rajiv Gandhi Inte...|     Deccan Chargers|     Kings XI Punjab|     Kings XI Punjab|        field|     Kings XI Punjab|wickets|            7|        165|        20.0|      NULL|    NA|BR Doctrove|     RB Tiffin|\n",
      "|336000|  NULL|    Jaipur|2008-05-01|    League|    SA Asnodkar|Sawai Mansingh St...|    Rajasthan Royals|Kolkata Knight Ri...|    Rajasthan Royals|          bat|    Rajasthan Royals|   runs|           45|        197|        20.0|      NULL|    NA|RE Koertzen|GA Pratapkumar|\n",
      "|336001|  NULL|   Chennai|2008-05-02|    League|       V Sehwag|MA Chidambaram St...| Chennai Super Kings|    Delhi Daredevils| Chennai Super Kings|          bat|    Delhi Daredevils|wickets|            8|        170|        20.0|      NULL|    NA|  BF Bowden|   K Hariharan|\n",
      "+------+------+----------+----------+----------+---------------+--------------------+--------------------+--------------------+--------------------+-------------+--------------------+-------+-------------+-----------+------------+----------+------+-----------+--------------+\n",
      "only showing top 20 rows\n",
      "\n"
     ]
    }
   ],
   "source": [
    "matches_df.show()"
   ]
  },
  {
   "cell_type": "code",
   "execution_count": 181,
   "id": "374c8fd0-193b-4cdd-aa99-537b5183a716",
   "metadata": {},
   "outputs": [],
   "source": [
    "deliveries_df = deliveries_df.fillna({\n",
    "    'player_dismissed': 'None',\n",
    "    'dismissal_kind': 'Not Out',\n",
    "    'batsman_runs': 0,\n",
    "    'extra_runs': 0,\n",
    "    'is_wicket': 0\n",
    "})"
   ]
  },
  {
   "cell_type": "code",
   "execution_count": 182,
   "id": "1157c9d2-bec1-4e6b-9241-27817b65a143",
   "metadata": {},
   "outputs": [
    {
     "name": "stdout",
     "output_type": "stream",
     "text": [
      "+--------+------+--------------------+--------------------+----+----+-----------+---------+-----------+------------+----------+----------+-----------+---------+----------------+--------------+-------+\n",
      "|match_id|inning|        batting_team|        bowling_team|over|ball|     batter|   bowler|non_striker|batsman_runs|extra_runs|total_runs|extras_type|is_wicket|player_dismissed|dismissal_kind|fielder|\n",
      "+--------+------+--------------------+--------------------+----+----+-----------+---------+-----------+------------+----------+----------+-----------+---------+----------------+--------------+-------+\n",
      "|  335982|     1|Kolkata Knight Ri...|Royal Challengers...|   0|   1| SC Ganguly|  P Kumar|BB McCullum|           0|         1|         1|    legbyes|        0|              NA|            NA|     NA|\n",
      "|  335982|     1|Kolkata Knight Ri...|Royal Challengers...|   0|   2|BB McCullum|  P Kumar| SC Ganguly|           0|         0|         0|       NULL|        0|              NA|            NA|     NA|\n",
      "|  335982|     1|Kolkata Knight Ri...|Royal Challengers...|   0|   3|BB McCullum|  P Kumar| SC Ganguly|           0|         1|         1|      wides|        0|              NA|            NA|     NA|\n",
      "|  335982|     1|Kolkata Knight Ri...|Royal Challengers...|   0|   4|BB McCullum|  P Kumar| SC Ganguly|           0|         0|         0|       NULL|        0|              NA|            NA|     NA|\n",
      "|  335982|     1|Kolkata Knight Ri...|Royal Challengers...|   0|   5|BB McCullum|  P Kumar| SC Ganguly|           0|         0|         0|       NULL|        0|              NA|            NA|     NA|\n",
      "|  335982|     1|Kolkata Knight Ri...|Royal Challengers...|   0|   6|BB McCullum|  P Kumar| SC Ganguly|           0|         0|         0|       NULL|        0|              NA|            NA|     NA|\n",
      "|  335982|     1|Kolkata Knight Ri...|Royal Challengers...|   0|   7|BB McCullum|  P Kumar| SC Ganguly|           0|         1|         1|    legbyes|        0|              NA|            NA|     NA|\n",
      "|  335982|     1|Kolkata Knight Ri...|Royal Challengers...|   1|   1|BB McCullum|   Z Khan| SC Ganguly|           0|         0|         0|       NULL|        0|              NA|            NA|     NA|\n",
      "|  335982|     1|Kolkata Knight Ri...|Royal Challengers...|   1|   2|BB McCullum|   Z Khan| SC Ganguly|           4|         0|         4|       NULL|        0|              NA|            NA|     NA|\n",
      "|  335982|     1|Kolkata Knight Ri...|Royal Challengers...|   1|   3|BB McCullum|   Z Khan| SC Ganguly|           4|         0|         4|       NULL|        0|              NA|            NA|     NA|\n",
      "|  335982|     1|Kolkata Knight Ri...|Royal Challengers...|   1|   4|BB McCullum|   Z Khan| SC Ganguly|           6|         0|         6|       NULL|        0|              NA|            NA|     NA|\n",
      "|  335982|     1|Kolkata Knight Ri...|Royal Challengers...|   1|   5|BB McCullum|   Z Khan| SC Ganguly|           4|         0|         4|       NULL|        0|              NA|            NA|     NA|\n",
      "|  335982|     1|Kolkata Knight Ri...|Royal Challengers...|   1|   6|BB McCullum|   Z Khan| SC Ganguly|           0|         0|         0|       NULL|        0|              NA|            NA|     NA|\n",
      "|  335982|     1|Kolkata Knight Ri...|Royal Challengers...|   2|   1| SC Ganguly|  P Kumar|BB McCullum|           0|         0|         0|       NULL|        0|              NA|            NA|     NA|\n",
      "|  335982|     1|Kolkata Knight Ri...|Royal Challengers...|   2|   2| SC Ganguly|  P Kumar|BB McCullum|           0|         0|         0|       NULL|        0|              NA|            NA|     NA|\n",
      "|  335982|     1|Kolkata Knight Ri...|Royal Challengers...|   2|   3| SC Ganguly|  P Kumar|BB McCullum|           0|         1|         1|    legbyes|        0|              NA|            NA|     NA|\n",
      "|  335982|     1|Kolkata Knight Ri...|Royal Challengers...|   2|   4|BB McCullum|  P Kumar| SC Ganguly|           4|         0|         4|       NULL|        0|              NA|            NA|     NA|\n",
      "|  335982|     1|Kolkata Knight Ri...|Royal Challengers...|   2|   5|BB McCullum|  P Kumar| SC Ganguly|           1|         0|         1|       NULL|        0|              NA|            NA|     NA|\n",
      "|  335982|     1|Kolkata Knight Ri...|Royal Challengers...|   2|   6| SC Ganguly|  P Kumar|BB McCullum|           0|         0|         0|       NULL|        0|              NA|            NA|     NA|\n",
      "|  335982|     1|Kolkata Knight Ri...|Royal Challengers...|   3|   1|BB McCullum|AA Noffke| SC Ganguly|           0|         5|         5|      wides|        0|              NA|            NA|     NA|\n",
      "+--------+------+--------------------+--------------------+----+----+-----------+---------+-----------+------------+----------+----------+-----------+---------+----------------+--------------+-------+\n",
      "only showing top 20 rows\n",
      "\n"
     ]
    }
   ],
   "source": [
    "deliveries_df.show()"
   ]
  },
  {
   "cell_type": "code",
   "execution_count": 56,
   "id": "a007b7d3-4c8b-4c66-a177-efd85050077d",
   "metadata": {},
   "outputs": [],
   "source": [
    "deliveries_df = deliveries_df.dropna(subset=['match_id', 'batting_team', 'bowling_team'])"
   ]
  },
  {
   "cell_type": "code",
   "execution_count": 57,
   "id": "0a9e9000-e403-4954-8300-0a15be95b289",
   "metadata": {},
   "outputs": [
    {
     "name": "stdout",
     "output_type": "stream",
     "text": [
      "+--------+------+--------------------+--------------------+----+----+-----------+---------+-----------+------------+----------+----------+-----------+---------+----------------+--------------+-------+\n",
      "|match_id|inning|        batting_team|        bowling_team|over|ball|     batter|   bowler|non_striker|batsman_runs|extra_runs|total_runs|extras_type|is_wicket|player_dismissed|dismissal_kind|fielder|\n",
      "+--------+------+--------------------+--------------------+----+----+-----------+---------+-----------+------------+----------+----------+-----------+---------+----------------+--------------+-------+\n",
      "|  335982|     1|Kolkata Knight Ri...|Royal Challengers...|   0|   1| SC Ganguly|  P Kumar|BB McCullum|           0|         1|         1|    legbyes|    false|              NA|            NA|     NA|\n",
      "|  335982|     1|Kolkata Knight Ri...|Royal Challengers...|   0|   2|BB McCullum|  P Kumar| SC Ganguly|           0|         0|         0|       NULL|    false|              NA|            NA|     NA|\n",
      "|  335982|     1|Kolkata Knight Ri...|Royal Challengers...|   0|   3|BB McCullum|  P Kumar| SC Ganguly|           0|         1|         1|      wides|    false|              NA|            NA|     NA|\n",
      "|  335982|     1|Kolkata Knight Ri...|Royal Challengers...|   0|   4|BB McCullum|  P Kumar| SC Ganguly|           0|         0|         0|       NULL|    false|              NA|            NA|     NA|\n",
      "|  335982|     1|Kolkata Knight Ri...|Royal Challengers...|   0|   5|BB McCullum|  P Kumar| SC Ganguly|           0|         0|         0|       NULL|    false|              NA|            NA|     NA|\n",
      "|  335982|     1|Kolkata Knight Ri...|Royal Challengers...|   0|   6|BB McCullum|  P Kumar| SC Ganguly|           0|         0|         0|       NULL|    false|              NA|            NA|     NA|\n",
      "|  335982|     1|Kolkata Knight Ri...|Royal Challengers...|   0|   7|BB McCullum|  P Kumar| SC Ganguly|           0|         1|         1|    legbyes|    false|              NA|            NA|     NA|\n",
      "|  335982|     1|Kolkata Knight Ri...|Royal Challengers...|   1|   1|BB McCullum|   Z Khan| SC Ganguly|           0|         0|         0|       NULL|    false|              NA|            NA|     NA|\n",
      "|  335982|     1|Kolkata Knight Ri...|Royal Challengers...|   1|   2|BB McCullum|   Z Khan| SC Ganguly|           4|         0|         4|       NULL|    false|              NA|            NA|     NA|\n",
      "|  335982|     1|Kolkata Knight Ri...|Royal Challengers...|   1|   3|BB McCullum|   Z Khan| SC Ganguly|           4|         0|         4|       NULL|    false|              NA|            NA|     NA|\n",
      "|  335982|     1|Kolkata Knight Ri...|Royal Challengers...|   1|   4|BB McCullum|   Z Khan| SC Ganguly|           6|         0|         6|       NULL|    false|              NA|            NA|     NA|\n",
      "|  335982|     1|Kolkata Knight Ri...|Royal Challengers...|   1|   5|BB McCullum|   Z Khan| SC Ganguly|           4|         0|         4|       NULL|    false|              NA|            NA|     NA|\n",
      "|  335982|     1|Kolkata Knight Ri...|Royal Challengers...|   1|   6|BB McCullum|   Z Khan| SC Ganguly|           0|         0|         0|       NULL|    false|              NA|            NA|     NA|\n",
      "|  335982|     1|Kolkata Knight Ri...|Royal Challengers...|   2|   1| SC Ganguly|  P Kumar|BB McCullum|           0|         0|         0|       NULL|    false|              NA|            NA|     NA|\n",
      "|  335982|     1|Kolkata Knight Ri...|Royal Challengers...|   2|   2| SC Ganguly|  P Kumar|BB McCullum|           0|         0|         0|       NULL|    false|              NA|            NA|     NA|\n",
      "|  335982|     1|Kolkata Knight Ri...|Royal Challengers...|   2|   3| SC Ganguly|  P Kumar|BB McCullum|           0|         1|         1|    legbyes|    false|              NA|            NA|     NA|\n",
      "|  335982|     1|Kolkata Knight Ri...|Royal Challengers...|   2|   4|BB McCullum|  P Kumar| SC Ganguly|           4|         0|         4|       NULL|    false|              NA|            NA|     NA|\n",
      "|  335982|     1|Kolkata Knight Ri...|Royal Challengers...|   2|   5|BB McCullum|  P Kumar| SC Ganguly|           1|         0|         1|       NULL|    false|              NA|            NA|     NA|\n",
      "|  335982|     1|Kolkata Knight Ri...|Royal Challengers...|   2|   6| SC Ganguly|  P Kumar|BB McCullum|           0|         0|         0|       NULL|    false|              NA|            NA|     NA|\n",
      "|  335982|     1|Kolkata Knight Ri...|Royal Challengers...|   3|   1|BB McCullum|AA Noffke| SC Ganguly|           0|         5|         5|      wides|    false|              NA|            NA|     NA|\n",
      "+--------+------+--------------------+--------------------+----+----+-----------+---------+-----------+------------+----------+----------+-----------+---------+----------------+--------------+-------+\n",
      "only showing top 20 rows\n",
      "\n"
     ]
    }
   ],
   "source": [
    "deliveries_df.show()"
   ]
  },
  {
   "cell_type": "code",
   "execution_count": 58,
   "id": "f4ec3238-a73f-4bad-87c7-27fc480a8cbe",
   "metadata": {},
   "outputs": [],
   "source": [
    "matches_df = matches_df.fillna({\n",
    "    'city': 'Unknown',           # Replace null with 'Unknown' for city\n",
    "    'match_type': 'Unknown',     # Replace null with 'Unknown' for match_type\n",
    "    'player_of_match': 'None',   # Replace null with 'None' for player_of_match\n",
    "    'venue': 'Unknown Venue',    # Replace null with 'Unknown Venue' for venue\n",
    "    'result_margin': 0,          # Replace null with 0 for result_margin\n",
    "    'target_runs': 0,            # Replace null with 0 for target_runs\n",
    "    'target_overs': 0.0,         # Replace null with 0.0 for target_overs\n",
    "    'super_over': False,         # Replace null with False for super_over\n",
    "    'method': 'Standard' \n",
    "})"
   ]
  },
  {
   "cell_type": "code",
   "execution_count": 59,
   "id": "74177681-2e44-489b-9937-cff4118016a5",
   "metadata": {},
   "outputs": [
    {
     "name": "stdout",
     "output_type": "stream",
     "text": [
      "+------+------+----------+----------+----------+---------------+--------------------+--------------------+--------------------+--------------------+-------------+--------------------+-------+-------------+-----------+------------+----------+------+-----------+--------------+\n",
      "|    id|season|      city|      date|match_type|player_of_match|               venue|               team1|               team2|         toss_winner|toss_decision|              winner| result|result_margin|target_runs|target_overs|super_over|method|    umpire1|       umpire2|\n",
      "+------+------+----------+----------+----------+---------------+--------------------+--------------------+--------------------+--------------------+-------------+--------------------+-------+-------------+-----------+------------+----------+------+-----------+--------------+\n",
      "|335982|  NULL| Bangalore|2008-04-18|    League|    BB McCullum|M Chinnaswamy Sta...|Royal Challengers...|Kolkata Knight Ri...|Royal Challengers...|        field|Kolkata Knight Ri...|   runs|          140|        223|        20.0|     false|    NA|  Asad Rauf|   RE Koertzen|\n",
      "|335983|  NULL|Chandigarh|2008-04-19|    League|     MEK Hussey|Punjab Cricket As...|     Kings XI Punjab| Chennai Super Kings| Chennai Super Kings|          bat| Chennai Super Kings|   runs|           33|        241|        20.0|     false|    NA|  MR Benson|    SL Shastri|\n",
      "|335984|  NULL|     Delhi|2008-04-19|    League|    MF Maharoof|    Feroz Shah Kotla|    Delhi Daredevils|    Rajasthan Royals|    Rajasthan Royals|          bat|    Delhi Daredevils|wickets|            9|        130|        20.0|     false|    NA|  Aleem Dar|GA Pratapkumar|\n",
      "|335985|  NULL|    Mumbai|2008-04-20|    League|     MV Boucher|    Wankhede Stadium|      Mumbai Indians|Royal Challengers...|      Mumbai Indians|          bat|Royal Challengers...|wickets|            5|        166|        20.0|     false|    NA|   SJ Davis|     DJ Harper|\n",
      "|335986|  NULL|   Kolkata|2008-04-20|    League|      DJ Hussey|        Eden Gardens|Kolkata Knight Ri...|     Deccan Chargers|     Deccan Chargers|          bat|Kolkata Knight Ri...|wickets|            5|        111|        20.0|     false|    NA|  BF Bowden|   K Hariharan|\n",
      "|335987|  NULL|    Jaipur|2008-04-21|    League|      SR Watson|Sawai Mansingh St...|    Rajasthan Royals|     Kings XI Punjab|     Kings XI Punjab|          bat|    Rajasthan Royals|wickets|            6|        167|        20.0|     false|    NA|  Aleem Dar|     RB Tiffin|\n",
      "|335988|  NULL| Hyderabad|2008-04-22|    League|       V Sehwag|Rajiv Gandhi Inte...|     Deccan Chargers|    Delhi Daredevils|     Deccan Chargers|          bat|    Delhi Daredevils|wickets|            9|        143|        20.0|     false|    NA|  IL Howell|     AM Saheba|\n",
      "|335989|  NULL|   Chennai|2008-04-23|    League|      ML Hayden|MA Chidambaram St...| Chennai Super Kings|      Mumbai Indians|      Mumbai Indians|        field| Chennai Super Kings|   runs|            6|        209|        20.0|     false|    NA|  DJ Harper|GA Pratapkumar|\n",
      "|335990|  NULL| Hyderabad|2008-04-24|    League|      YK Pathan|Rajiv Gandhi Inte...|     Deccan Chargers|    Rajasthan Royals|    Rajasthan Royals|        field|    Rajasthan Royals|wickets|            3|        215|        20.0|     false|    NA|  Asad Rauf|     MR Benson|\n",
      "|335991|  NULL|Chandigarh|2008-04-25|    League|  KC Sangakkara|Punjab Cricket As...|     Kings XI Punjab|      Mumbai Indians|      Mumbai Indians|        field|     Kings XI Punjab|   runs|           66|        183|        20.0|     false|    NA|  Aleem Dar|     AM Saheba|\n",
      "|335992|  NULL| Bangalore|2008-04-26|    League|      SR Watson|M Chinnaswamy Sta...|Royal Challengers...|    Rajasthan Royals|    Rajasthan Royals|        field|    Rajasthan Royals|wickets|            7|        136|        20.0|     false|    NA|  MR Benson|     IL Howell|\n",
      "|335993|  NULL|   Chennai|2008-04-26|    League|       JDP Oram|MA Chidambaram St...| Chennai Super Kings|Kolkata Knight Ri...|Kolkata Knight Ri...|          bat| Chennai Super Kings|wickets|            9|        148|        20.0|     false|    NA|  BF Bowden|AV Jayaprakash|\n",
      "|335994|  NULL|    Mumbai|2008-04-27|    League|   AC Gilchrist|Dr DY Patil Sport...|      Mumbai Indians|     Deccan Chargers|     Deccan Chargers|        field|     Deccan Chargers|wickets|           10|        155|        20.0|     false|    NA|  Asad Rauf|    SL Shastri|\n",
      "|335995|  NULL|Chandigarh|2008-04-27|    League|      SM Katich|Punjab Cricket As...|     Kings XI Punjab|    Delhi Daredevils|    Delhi Daredevils|          bat|     Kings XI Punjab|wickets|            4|        159|        20.0|     false|    NA|RE Koertzen|     I Shivram|\n",
      "|335996|  NULL| Bangalore|2008-04-28|    League|       MS Dhoni|M Chinnaswamy Sta...|Royal Challengers...| Chennai Super Kings| Chennai Super Kings|          bat| Chennai Super Kings|   runs|           13|        179|        20.0|     false|    NA|BR Doctrove|     RB Tiffin|\n",
      "|335997|  NULL|   Kolkata|2008-04-29|    League|  ST Jayasuriya|        Eden Gardens|Kolkata Knight Ri...|      Mumbai Indians|Kolkata Knight Ri...|          bat|      Mumbai Indians|wickets|            7|        138|        20.0|     false|    NA|  BF Bowden|AV Jayaprakash|\n",
      "|335998|  NULL|     Delhi|2008-04-30|    League|     GD McGrath|    Feroz Shah Kotla|    Delhi Daredevils|Royal Challengers...|Royal Challengers...|        field|    Delhi Daredevils|   runs|           10|        192|        20.0|     false|    NA|  Aleem Dar|     I Shivram|\n",
      "|335999|  NULL| Hyderabad|2008-05-01|    League|       SE Marsh|Rajiv Gandhi Inte...|     Deccan Chargers|     Kings XI Punjab|     Kings XI Punjab|        field|     Kings XI Punjab|wickets|            7|        165|        20.0|     false|    NA|BR Doctrove|     RB Tiffin|\n",
      "|336000|  NULL|    Jaipur|2008-05-01|    League|    SA Asnodkar|Sawai Mansingh St...|    Rajasthan Royals|Kolkata Knight Ri...|    Rajasthan Royals|          bat|    Rajasthan Royals|   runs|           45|        197|        20.0|     false|    NA|RE Koertzen|GA Pratapkumar|\n",
      "|336001|  NULL|   Chennai|2008-05-02|    League|       V Sehwag|MA Chidambaram St...| Chennai Super Kings|    Delhi Daredevils| Chennai Super Kings|          bat|    Delhi Daredevils|wickets|            8|        170|        20.0|     false|    NA|  BF Bowden|   K Hariharan|\n",
      "+------+------+----------+----------+----------+---------------+--------------------+--------------------+--------------------+--------------------+-------------+--------------------+-------+-------------+-----------+------------+----------+------+-----------+--------------+\n",
      "only showing top 20 rows\n",
      "\n"
     ]
    }
   ],
   "source": [
    "matches_df.show()"
   ]
  },
  {
   "cell_type": "code",
   "execution_count": 60,
   "id": "a48bf85e-191c-4d1d-83e0-cda727768bf4",
   "metadata": {},
   "outputs": [],
   "source": [
    "matches_df = matches_df.dropna(subset=['id', 'team1', 'team2', 'winner'])"
   ]
  },
  {
   "cell_type": "code",
   "execution_count": 63,
   "id": "690cce5a-9644-43c6-86b0-0897d1f39aba",
   "metadata": {},
   "outputs": [],
   "source": [
    "## 1). Top Run Scorers Across seasons"
   ]
  },
  {
   "cell_type": "code",
   "execution_count": 84,
   "id": "d4a88e73-538e-4fe5-839f-2e56d77d8001",
   "metadata": {},
   "outputs": [
    {
     "name": "stdout",
     "output_type": "stream",
     "text": [
      "+--------+\n",
      "|match_id|\n",
      "+--------+\n",
      "|  419157|\n",
      "|  392222|\n",
      "|  419142|\n",
      "|  392218|\n",
      "|  336036|\n",
      "|  419138|\n",
      "|  419161|\n",
      "|  336017|\n",
      "|  335992|\n",
      "|  392227|\n",
      "+--------+\n",
      "only showing top 10 rows\n",
      "\n",
      "+-------+\n",
      "|     id|\n",
      "+-------+\n",
      "| 501247|\n",
      "| 501269|\n",
      "| 829705|\n",
      "| 980905|\n",
      "|1254081|\n",
      "| 598045|\n",
      "|1082608|\n",
      "|1304099|\n",
      "|1426311|\n",
      "| 501201|\n",
      "+-------+\n",
      "only showing top 10 rows\n",
      "\n"
     ]
    }
   ],
   "source": [
    "# Check some entries from both DataFrames\n",
    "deliveries_df.select(\"match_id\").distinct().show(10)\n",
    "matches_df.select(\"id\").distinct().show(10)\n"
   ]
  },
  {
   "cell_type": "code",
   "execution_count": 137,
   "id": "e127891c-18c8-4af1-af44-07973af957c9",
   "metadata": {},
   "outputs": [],
   "source": [
    "deliveries_with_season_df = deliveries_df.join(matches_df, deliveries_df.match_id == matches_df.id, \"left\") \\\n",
    "    .select(\n",
    "        deliveries_df[\"*\"],\n",
    "        matches_df[\"season\"]\n",
    "    )\n"
   ]
  },
  {
   "cell_type": "code",
   "execution_count": 99,
   "id": "f1e20f66-3e9c-408b-8600-74d7b921cd5d",
   "metadata": {},
   "outputs": [],
   "source": [
    "top_run_scorers_seasons = (deliveries_with_season_df.groupBy(\"season\",\"batter\")\n",
    "  .sum(\"batsman_runs\")\n",
    "  .withColumnRenamed(\"sum(batsman_runs)\",\"total_runs\")\n",
    "  .orderBy(col(\"total_runs\").desc()) ).filter(col(\"season\").isNotNull())\n",
    " "
   ]
  },
  {
   "cell_type": "code",
   "execution_count": 100,
   "id": "5f70acf0-8531-40f1-b29a-f918f9528d45",
   "metadata": {},
   "outputs": [
    {
     "name": "stdout",
     "output_type": "stream",
     "text": [
      "+------+--------------+----------+\n",
      "|season|        batter|total_runs|\n",
      "+------+--------------+----------+\n",
      "|  2016|       V Kohli|       973|\n",
      "|  2023|  Shubman Gill|       890|\n",
      "|  2022|    JC Buttler|       863|\n",
      "|  2016|     DA Warner|       848|\n",
      "|  2024|       V Kohli|       741|\n",
      "|  2018| KS Williamson|       735|\n",
      "|  2012|      CH Gayle|       733|\n",
      "|  2013|    MEK Hussey|       733|\n",
      "|  2023|  F du Plessis|       730|\n",
      "|  2013|      CH Gayle|       720|\n",
      "|  2019|     DA Warner|       692|\n",
      "|  2016|AB de Villiers|       687|\n",
      "|  2018|       RR Pant|       684|\n",
      "|  2023|     DP Conway|       672|\n",
      "|  2014|    RV Uthappa|       660|\n",
      "|  2018|      KL Rahul|       659|\n",
      "|  2017|     DA Warner|       641|\n",
      "|  2013|       V Kohli|       639|\n",
      "|  2023|       V Kohli|       639|\n",
      "|  2021|    RD Gaikwad|       635|\n",
      "+------+--------------+----------+\n",
      "only showing top 20 rows\n",
      "\n"
     ]
    }
   ],
   "source": [
    "top_run_scorers_seasons.show()"
   ]
  },
  {
   "cell_type": "code",
   "execution_count": 122,
   "id": "c2a714e9-457c-4a70-b974-f69efbcde73e",
   "metadata": {},
   "outputs": [],
   "source": [
    "top_run_scorers_pandas_df = top_run_scorers_seasons.toPandas()"
   ]
  },
  {
   "cell_type": "code",
   "execution_count": 123,
   "id": "b145f7f7-ccc7-4c57-aa43-1a9216f0fe3f",
   "metadata": {},
   "outputs": [],
   "source": [
    "import matplotlib.pyplot as plt\n",
    "import seaborn as sns"
   ]
  },
  {
   "cell_type": "code",
   "execution_count": 131,
   "id": "da33ef96-8e3f-4450-bc23-c657a9f25085",
   "metadata": {},
   "outputs": [
    {
     "name": "stderr",
     "output_type": "stream",
     "text": [
      "C:\\Users\\adarsh\\AppData\\Local\\Temp\\ipykernel_14568\\3818636200.py:5: FutureWarning: \n",
      "\n",
      "Passing `palette` without assigning `hue` is deprecated and will be removed in v0.14.0. Assign the `x` variable to `hue` and set `legend=False` for the same effect.\n",
      "\n",
      "  sns.barplot(data=top_10_scorers, x='batter', y='total_runs', palette='viridis')\n"
     ]
    },
    {
     "data": {
      "image/png": "[encoded data removed]",
      "text/plain": [
       "<Figure size 1400x800 with 1 Axes>"
      ]
     },
     "metadata": {},
     "output_type": "display_data"
    }
   ],
   "source": [
    "# Plot top run scorers across all seasons\n",
    "# Plot runs scored by each batter across different seasons\n",
    "plt.figure(figsize=(14, 8))\n",
    "top_10_scorers = top_run_scorers_pandas_df.head(20)\n",
    "sns.barplot(data=top_10_scorers, x='batter', y='total_runs', palette='viridis')\n",
    "plt.title('Top 10 Run Scorers Across All Seasons')\n",
    "plt.xlabel('Batter')\n",
    "plt.ylabel('Total Runs')\n",
    "plt.xticks(rotation=45)\n",
    "plt.show()\n",
    "\n",
    "\n"
   ]
  },
  {
   "cell_type": "code",
   "execution_count": 185,
   "id": "b672daee-0544-4de4-8a9e-d33a9f6bc08a",
   "metadata": {},
   "outputs": [
    {
     "name": "stdout",
     "output_type": "stream",
     "text": [
      "+--------+------+--------------+-------------------+----+----+-------------+----------+-------------+------------+----------+----------+-----------+---------+----------------+--------------+-------+------+\n",
      "|match_id|inning|  batting_team|       bowling_team|over|ball|       batter|    bowler|  non_striker|batsman_runs|extra_runs|total_runs|extras_type|is_wicket|player_dismissed|dismissal_kind|fielder|season|\n",
      "+--------+------+--------------+-------------------+----+----+-------------+----------+-------------+------------+----------+----------+-----------+---------+----------------+--------------+-------+------+\n",
      "|  392181|     1|Mumbai Indians|Chennai Super Kings|   0|   1|ST Jayasuriya|   MS Gony| SR Tendulkar|           1|         0|         1|       NULL|    false|              NA|            NA|     NA|  2009|\n",
      "|  392181|     1|Mumbai Indians|Chennai Super Kings|   0|   2| SR Tendulkar|   MS Gony|ST Jayasuriya|           0|         0|         0|       NULL|    false|              NA|            NA|     NA|  2009|\n",
      "|  392181|     1|Mumbai Indians|Chennai Super Kings|   0|   3| SR Tendulkar|   MS Gony|ST Jayasuriya|           0|         0|         0|       NULL|    false|              NA|            NA|     NA|  2009|\n",
      "|  392181|     1|Mumbai Indians|Chennai Super Kings|   0|   4| SR Tendulkar|   MS Gony|ST Jayasuriya|           1|         0|         1|       NULL|    false|              NA|            NA|     NA|  2009|\n",
      "|  392181|     1|Mumbai Indians|Chennai Super Kings|   0|   5|ST Jayasuriya|   MS Gony| SR Tendulkar|           0|         0|         0|       NULL|    false|              NA|            NA|     NA|  2009|\n",
      "|  392181|     1|Mumbai Indians|Chennai Super Kings|   0|   6|ST Jayasuriya|   MS Gony| SR Tendulkar|           1|         0|         1|       NULL|    false|              NA|            NA|     NA|  2009|\n",
      "|  392181|     1|Mumbai Indians|Chennai Super Kings|   1|   1|ST Jayasuriya|T Thushara| SR Tendulkar|           0|         1|         1|    legbyes|    false|              NA|            NA|     NA|  2009|\n",
      "|  392181|     1|Mumbai Indians|Chennai Super Kings|   1|   2| SR Tendulkar|T Thushara|ST Jayasuriya|           0|         0|         0|       NULL|    false|              NA|            NA|     NA|  2009|\n",
      "|  392181|     1|Mumbai Indians|Chennai Super Kings|   1|   3| SR Tendulkar|T Thushara|ST Jayasuriya|           1|         0|         1|       NULL|    false|              NA|            NA|     NA|  2009|\n",
      "|  392181|     1|Mumbai Indians|Chennai Super Kings|   1|   4|ST Jayasuriya|T Thushara| SR Tendulkar|           4|         0|         4|       NULL|    false|              NA|            NA|     NA|  2009|\n",
      "+--------+------+--------------+-------------------+----+----+-------------+----------+-------------+------------+----------+----------+-----------+---------+----------------+--------------+-------+------+\n",
      "only showing top 10 rows\n",
      "\n"
     ]
    }
   ],
   "source": [
    "# Filter out rows where season is null\n",
    "deliveries_cleaned_df = deliveries_with_season_df.filter(col(\"season\").isNotNull())\n",
    "# Check the cleaned DataFrame\n",
    "deliveries_cleaned_df.show(10)\n"
   ]
  },
  {
   "cell_type": "code",
   "execution_count": 186,
   "id": "e09b84e3-7f27-45c0-9e6d-04f5b9e31139",
   "metadata": {},
   "outputs": [
    {
     "name": "stdout",
     "output_type": "stream",
     "text": [
      "+--------+------+------------+------------+----+----+------+------+-----------+------------+----------+----------+-----------+---------+----------------+--------------+-------+------+\n",
      "|match_id|inning|batting_team|bowling_team|over|ball|batter|bowler|non_striker|batsman_runs|extra_runs|total_runs|extras_type|is_wicket|player_dismissed|dismissal_kind|fielder|season|\n",
      "+--------+------+------------+------------+----+----+------+------+-----------+------------+----------+----------+-----------+---------+----------------+--------------+-------+------+\n",
      "+--------+------+------------+------------+----+----+------+------+-----------+------------+----------+----------+-----------+---------+----------------+--------------+-------+------+\n",
      "\n"
     ]
    }
   ],
   "source": [
    "# Filter for rows where there was a wicket\n",
    "top_wicket_takers_season = deliveries_cleaned_df.filter(col(\"is_wicket\") != 0)\n",
    "\n",
    "top_wicket_takers_season.show(10)\n"
   ]
  },
  {
   "cell_type": "code",
   "execution_count": null,
   "id": "7a09b0f9-7102-4af5-b657-8d3e79f7893e",
   "metadata": {},
   "outputs": [],
   "source": []
  }
 ],
 "metadata": {
  "kernelspec": {
   "display_name": "Python 3 (ipykernel)",
   "language": "python",
   "name": "python3"
  },
  "language_info": {
   "codemirror_mode": {
    "name": "ipython",
    "version": 3
   },
   "file_extension": ".py",
   "mimetype": "text/x-python",
   "name": "python",
   "nbconvert_exporter": "python",
   "pygments_lexer": "ipython3",
   "version": "3.10.6"
  }
 },
 "nbformat": 4,
 "nbformat_minor": 5
}
