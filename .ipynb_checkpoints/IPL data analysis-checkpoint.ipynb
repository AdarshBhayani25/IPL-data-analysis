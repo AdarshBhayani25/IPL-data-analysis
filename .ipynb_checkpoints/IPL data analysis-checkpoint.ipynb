{
 "cells": [
  {
   "cell_type": "code",
   "execution_count": 1,
   "id": "3815c1b5-893c-43f5-b369-a4586dc34f4d",
   "metadata": {},
   "outputs": [],
   "source": [
    "from pyspark.sql import SparkSession"
   ]
  },
  {
   "cell_type": "code",
   "execution_count": 58,
   "id": "4bf0f295-fff0-465b-ab1e-41f0c6e075bc",
   "metadata": {},
   "outputs": [],
   "source": [
    "from pyspark.sql.types import (\n",
    "    StructType, StructField, IntegerType, StringType, BooleanType, DateType ,DecimalType\n",
    ")\n",
    "from pyspark.sql.functions import *\n",
    "from pyspark.sql.window import Window"
   ]
  },
  {
   "cell_type": "code",
   "execution_count": 2,
   "id": "3e8d6f41-b98d-4e9f-a7b6-7f517d0b6e90",
   "metadata": {},
   "outputs": [],
   "source": [
    "spark = SparkSession.builder.appName('IPL data analysis').getOrCreate()"
   ]
  },
  {
   "cell_type": "code",
   "execution_count": 5,
   "id": "83226d4e-517b-4d49-9b57-0815752e9d98",
   "metadata": {},
   "outputs": [
    {
     "data": {
      "text/html": [
       "\n",
       "            <div>\n",
       "                <p><b>SparkSession - in-memory</b></p>\n",
       "                \n",
       "        <div>\n",
       "            <p><b>SparkContext</b></p>\n",
       "\n",
       "            <p><a href=\"http://Minion:4042\">Spark UI</a></p>\n",
       "\n",
       "            <dl>\n",
       "              <dt>Version</dt>\n",
       "                <dd><code>v3.5.2</code></dd>\n",
       "              <dt>Master</dt>\n",
       "                <dd><code>local[*]</code></dd>\n",
       "              <dt>AppName</dt>\n",
       "                <dd><code>IPL data analysis</code></dd>\n",
       "            </dl>\n",
       "        </div>\n",
       "        \n",
       "            </div>\n",
       "        "
      ],
      "text/plain": [
       "<pyspark.sql.session.SparkSession at 0x215d231a6e0>"
      ]
     },
     "execution_count": 5,
     "metadata": {},
     "output_type": "execute_result"
    }
   ],
   "source": [
    "spark"
   ]
  },
  {
   "cell_type": "code",
   "execution_count": 6,
   "id": "82afbaea-78f7-4f46-b6ff-9faebebe5de3",
   "metadata": {},
   "outputs": [],
   "source": [
    "df = spark.read.csv('Ball_By_Ball.csv' , header = True )"
   ]
  },
  {
   "cell_type": "code",
   "execution_count": 15,
   "id": "f2cebb32-b559-423d-bab9-3ef3a4614a74",
   "metadata": {},
   "outputs": [
    {
     "name": "stdout",
     "output_type": "stream",
     "text": [
      "root\n",
      " |-- MatcH_id: string (nullable = true)\n",
      " |-- Over_id: string (nullable = true)\n",
      " |-- Ball_id: string (nullable = true)\n",
      " |-- Innings_No: string (nullable = true)\n",
      " |-- Team_Batting: string (nullable = true)\n",
      " |-- Team_Bowling: string (nullable = true)\n",
      " |-- Striker_Batting_Position: string (nullable = true)\n",
      " |-- Extra_Type: string (nullable = true)\n",
      " |-- Runs_Scored: string (nullable = true)\n",
      " |-- Extra_runs: string (nullable = true)\n",
      " |-- Wides: string (nullable = true)\n",
      " |-- Legbyes: string (nullable = true)\n",
      " |-- Byes: string (nullable = true)\n",
      " |-- Noballs: string (nullable = true)\n",
      " |-- Penalty: string (nullable = true)\n",
      " |-- Bowler_Extras: string (nullable = true)\n",
      " |-- Out_type: string (nullable = true)\n",
      " |-- Caught: string (nullable = true)\n",
      " |-- Bowled: string (nullable = true)\n",
      " |-- Run_out: string (nullable = true)\n",
      " |-- LBW: string (nullable = true)\n",
      " |-- Retired_hurt: string (nullable = true)\n",
      " |-- Stumped: string (nullable = true)\n",
      " |-- caught_and_bowled: string (nullable = true)\n",
      " |-- hit_wicket: string (nullable = true)\n",
      " |-- ObstructingFeild: string (nullable = true)\n",
      " |-- Bowler_Wicket: string (nullable = true)\n",
      " |-- Match_Date: string (nullable = true)\n",
      " |-- Season: string (nullable = true)\n",
      " |-- Striker: string (nullable = true)\n",
      " |-- Non_Striker: string (nullable = true)\n",
      " |-- Bowler: string (nullable = true)\n",
      " |-- Player_Out: string (nullable = true)\n",
      " |-- Fielders: string (nullable = true)\n",
      " |-- Striker_match_SK: string (nullable = true)\n",
      " |-- StrikerSK: string (nullable = true)\n",
      " |-- NonStriker_match_SK: string (nullable = true)\n",
      " |-- NONStriker_SK: string (nullable = true)\n",
      " |-- Fielder_match_SK: string (nullable = true)\n",
      " |-- Fielder_SK: string (nullable = true)\n",
      " |-- Bowler_match_SK: string (nullable = true)\n",
      " |-- BOWLER_SK: string (nullable = true)\n",
      " |-- PlayerOut_match_SK: string (nullable = true)\n",
      " |-- BattingTeam_SK: string (nullable = true)\n",
      " |-- BowlingTeam_SK: string (nullable = true)\n",
      " |-- Keeper_Catch: string (nullable = true)\n",
      " |-- Player_out_sk: string (nullable = true)\n",
      " |-- MatchDateSK: string (nullable = true)\n",
      "\n"
     ]
    }
   ],
   "source": [
    "df.printSchema()"
   ]
  },
  {
   "cell_type": "code",
   "execution_count": 17,
   "id": "a2a0fe1b-7c17-4c19-8407-d556ed40cfa3",
   "metadata": {},
   "outputs": [],
   "source": [
    "ball_by_ball_schema = StructType([\n",
    "    StructField(\"match_id\", IntegerType(), True),\n",
    "    StructField(\"over_id\", IntegerType(), True),\n",
    "    StructField(\"ball_id\", IntegerType(), True),\n",
    "    StructField(\"innings_no\", IntegerType(), True),\n",
    "    StructField(\"team_batting\", StringType(), True),\n",
    "    StructField(\"team_bowling\", StringType(), True),\n",
    "    StructField(\"striker_batting_position\", IntegerType(), True),\n",
    "    StructField(\"extra_type\", StringType(), True),\n",
    "    StructField(\"runs_scored\", IntegerType(), True),\n",
    "    StructField(\"extra_runs\", IntegerType(), True),\n",
    "    StructField(\"wides\", IntegerType(), True),\n",
    "    StructField(\"legbyes\", IntegerType(), True),\n",
    "    StructField(\"byes\", IntegerType(), True),\n",
    "    StructField(\"noballs\", IntegerType(), True),\n",
    "    StructField(\"penalty\", IntegerType(), True),\n",
    "    StructField(\"bowler_extras\", IntegerType(), True),\n",
    "    StructField(\"out_type\", StringType(), True),\n",
    "    StructField(\"caught\", BooleanType(), True),\n",
    "    StructField(\"bowled\", BooleanType(), True),\n",
    "    StructField(\"run_out\", BooleanType(), True),\n",
    "    StructField(\"lbw\", BooleanType(), True),\n",
    "    StructField(\"retired_hurt\", BooleanType(), True),\n",
    "    StructField(\"stumped\", BooleanType(), True),\n",
    "    StructField(\"caught_and_bowled\", BooleanType(), True),\n",
    "    StructField(\"hit_wicket\", BooleanType(), True),\n",
    "    StructField(\"obstructingfeild\", BooleanType(), True),\n",
    "    StructField(\"bowler_wicket\", BooleanType(), True),\n",
    "    StructField(\"match_date\", DateType(), True),\n",
    "    StructField(\"season\", IntegerType(), True),\n",
    "    StructField(\"striker\", IntegerType(), True),\n",
    "    StructField(\"non_striker\", IntegerType(), True),\n",
    "    StructField(\"bowler\", IntegerType(), True),\n",
    "    StructField(\"player_out\", IntegerType(), True),\n",
    "    StructField(\"fielders\", IntegerType(), True),\n",
    "    StructField(\"striker_match_sk\", IntegerType(), True),\n",
    "    StructField(\"strikersk\", IntegerType(), True),\n",
    "    StructField(\"nonstriker_match_sk\", IntegerType(), True),\n",
    "    StructField(\"nonstriker_sk\", IntegerType(), True),\n",
    "    StructField(\"fielder_match_sk\", IntegerType(), True),\n",
    "    StructField(\"fielder_sk\", IntegerType(), True),\n",
    "    StructField(\"bowler_match_sk\", IntegerType(), True),\n",
    "    StructField(\"bowler_sk\", IntegerType(), True),\n",
    "    StructField(\"playerout_match_sk\", IntegerType(), True),\n",
    "    StructField(\"battingteam_sk\", IntegerType(), True),\n",
    "    StructField(\"bowlingteam_sk\", IntegerType(), True),\n",
    "    StructField(\"keeper_catch\", BooleanType(), True),\n",
    "    StructField(\"player_out_sk\", IntegerType(), True),\n",
    "    StructField(\"matchdatesk\", DateType(), True)\n",
    "])"
   ]
  },
  {
   "cell_type": "code",
   "execution_count": 23,
   "id": "03fe951a-256b-452e-bf0d-add24de62eac",
   "metadata": {},
   "outputs": [],
   "source": [
    "ball_by_ball_df = spark.read.schema(ball_by_ball_schema).csv('Ball_By_Ball.csv' , header = True )"
   ]
  },
  {
   "cell_type": "code",
   "execution_count": 24,
   "id": "c762529d-c540-4585-b9ee-0e4c8800f615",
   "metadata": {},
   "outputs": [
    {
     "name": "stdout",
     "output_type": "stream",
     "text": [
      "+--------+-------+-------+----------+------------+------------+------------------------+----------+-----------+----------+-----+-------+----+-------+-------+-------------+--------------+------+------+-------+----+------------+-------+-----------------+----------+----------------+-------------+----------+------+-------+-----------+------+----------+--------+----------------+---------+-------------------+-------------+----------------+----------+---------------+---------+------------------+--------------+--------------+------------+-------------+-----------+\n",
      "|match_id|over_id|ball_id|innings_no|team_batting|team_bowling|striker_batting_position|extra_type|runs_scored|extra_runs|wides|legbyes|byes|noballs|penalty|bowler_extras|      out_type|caught|bowled|run_out| lbw|retired_hurt|stumped|caught_and_bowled|hit_wicket|obstructingfeild|bowler_wicket|match_date|season|striker|non_striker|bowler|player_out|fielders|striker_match_sk|strikersk|nonstriker_match_sk|nonstriker_sk|fielder_match_sk|fielder_sk|bowler_match_sk|bowler_sk|playerout_match_sk|battingteam_sk|bowlingteam_sk|keeper_catch|player_out_sk|matchdatesk|\n",
      "+--------+-------+-------+----------+------------+------------+------------------------+----------+-----------+----------+-----+-------+----+-------+-------+-------------+--------------+------+------+-------+----+------------+-------+-----------------+----------+----------------+-------------+----------+------+-------+-----------+------+----------+--------+----------------+---------+-------------------+-------------+----------------+----------+---------------+---------+------------------+--------------+--------------+------------+-------------+-----------+\n",
      "|  598028|     15|      6|         1|           5|           2|                       6| No Extras|          4|         0|    0|      0|   0|      0|      0|            0|Not Applicable|  NULL|  NULL|   NULL|NULL|        NULL|   NULL|             NULL|      NULL|            NULL|         NULL|      NULL|  2013|    277|        104|    83|      NULL|    NULL|           20336|      276|              20333|          103|              -1|        -1|          20343|       82|                -1|             4|             1|        NULL|            0|       NULL|\n",
      "|  598028|     14|      1|         1|           5|           2|                       5| No Extras|          1|         0|    0|      0|   0|      0|      0|            0|Not Applicable|  NULL|  NULL|   NULL|NULL|        NULL|   NULL|             NULL|      NULL|            NULL|         NULL|      NULL|  2013|    104|          6|   346|      NULL|    NULL|           20333|      103|              20328|            5|              -1|        -1|          20348|      345|                -1|             4|             1|        NULL|            0|       NULL|\n",
      "|  598028|     14|      2|         1|           5|           2|                       3| No Extras|          1|         0|    0|      0|   0|      0|      0|            0|Not Applicable|  NULL|  NULL|   NULL|NULL|        NULL|   NULL|             NULL|      NULL|            NULL|         NULL|      NULL|  2013|      6|        104|   346|      NULL|    NULL|           20328|        5|              20333|          103|              -1|        -1|          20348|      345|                -1|             4|             1|        NULL|            0|       NULL|\n",
      "|  598028|     14|      3|         1|           5|           2|                       5| No Extras|          1|         0|    0|      0|   0|      0|      0|            0|Not Applicable|  NULL|  NULL|   NULL|NULL|        NULL|   NULL|             NULL|      NULL|            NULL|         NULL|      NULL|  2013|    104|          6|   346|      NULL|    NULL|           20333|      103|              20328|            5|              -1|        -1|          20348|      345|                -1|             4|             1|        NULL|            0|       NULL|\n",
      "|  598028|     14|      4|         1|           5|           2|                       3| No Extras|          0|         0|    0|      0|   0|      0|      0|            0|Not Applicable|  NULL|  NULL|   NULL|NULL|        NULL|   NULL|             NULL|      NULL|            NULL|         NULL|      NULL|  2013|      6|        104|   346|      NULL|    NULL|           20328|        5|              20333|          103|              -1|        -1|          20348|      345|                -1|             4|             1|        NULL|            0|       NULL|\n",
      "+--------+-------+-------+----------+------------+------------+------------------------+----------+-----------+----------+-----+-------+----+-------+-------+-------------+--------------+------+------+-------+----+------------+-------+-----------------+----------+----------------+-------------+----------+------+-------+-----------+------+----------+--------+----------------+---------+-------------------+-------------+----------------+----------+---------------+---------+------------------+--------------+--------------+------------+-------------+-----------+\n",
      "only showing top 5 rows\n",
      "\n"
     ]
    }
   ],
   "source": [
    "ball_by_ball_df.show(5)"
   ]
  },
  {
   "cell_type": "code",
   "execution_count": 21,
   "id": "02022025-181f-4d3c-859f-99a7046cfa33",
   "metadata": {},
   "outputs": [],
   "source": [
    "match_schema = StructType([\n",
    "    StructField(\"match_sk\", IntegerType(), True),\n",
    "    StructField(\"match_id\", IntegerType(), True),\n",
    "    StructField(\"team1\", StringType(), True),\n",
    "    StructField(\"team2\", StringType(), True),\n",
    "    StructField(\"match_date\", DateType(), True),\n",
    "    StructField(\"season_year\", IntegerType(), True),  # Note: PySpark does not have a YearType, using IntegerType instead\n",
    "    StructField(\"venue_name\", StringType(), True),\n",
    "    StructField(\"city_name\", StringType(), True),\n",
    "    StructField(\"country_name\", StringType(), True),\n",
    "    StructField(\"toss_winner\", StringType(), True),\n",
    "    StructField(\"match_winner\", StringType(), True),\n",
    "    StructField(\"toss_name\", StringType(), True),\n",
    "    StructField(\"win_type\", StringType(), True),\n",
    "    StructField(\"outcome_type\", StringType(), True),\n",
    "    StructField(\"manofmach\", StringType(), True),\n",
    "    StructField(\"win_margin\", IntegerType(), True),\n",
    "    StructField(\"country_id\", IntegerType(), True)\n",
    "])"
   ]
  },
  {
   "cell_type": "code",
   "execution_count": 25,
   "id": "08b57240-a7d4-4d61-8e83-71ae295223ef",
   "metadata": {},
   "outputs": [],
   "source": [
    "match_df = spark.read.schema(match_schema).csv(\"Match.csv\",header=True)"
   ]
  },
  {
   "cell_type": "code",
   "execution_count": 26,
   "id": "7ee81608-b99f-4347-99c9-aab22062cd3e",
   "metadata": {},
   "outputs": [
    {
     "name": "stdout",
     "output_type": "stream",
     "text": [
      "+--------+--------+--------------------+--------------------+----------+-----------+--------------------+----------+------------+--------------------+--------------------+---------+--------+------------+-----------+----------+----------+\n",
      "|match_sk|match_id|               team1|               team2|match_date|season_year|          venue_name| city_name|country_name|         toss_winner|        match_winner|toss_name|win_type|outcome_type|  manofmach|win_margin|country_id|\n",
      "+--------+--------+--------------------+--------------------+----------+-----------+--------------------+----------+------------+--------------------+--------------------+---------+--------+------------+-----------+----------+----------+\n",
      "|       0|  335987|Royal Challengers...|Kolkata Knight Ri...|      NULL|       2008|M Chinnaswamy Sta...| Bangalore|       India|Royal Challengers...|Kolkata Knight Ri...|    field|    runs|      Result|BB McCullum|       140|         1|\n",
      "|       1|  335988|     Kings XI Punjab| Chennai Super Kings|      NULL|       2008|Punjab Cricket As...|Chandigarh|       India| Chennai Super Kings| Chennai Super Kings|      bat|    runs|      Result| MEK Hussey|        33|         1|\n",
      "|       2|  335989|    Delhi Daredevils|    Rajasthan Royals|      NULL|       2008|    Feroz Shah Kotla|     Delhi|       India|    Rajasthan Royals|    Delhi Daredevils|      bat| wickets|      Result|MF Maharoof|         9|         1|\n",
      "|       3|  335990|      Mumbai Indians|Royal Challengers...|      NULL|       2008|    Wankhede Stadium|    Mumbai|       India|      Mumbai Indians|Royal Challengers...|      bat| wickets|      Result| MV Boucher|         5|         1|\n",
      "|       4|  335991|Kolkata Knight Ri...|     Deccan Chargers|      NULL|       2008|        Eden Gardens|   Kolkata|       India|     Deccan Chargers|Kolkata Knight Ri...|      bat| wickets|      Result|  DJ Hussey|         5|         1|\n",
      "+--------+--------+--------------------+--------------------+----------+-----------+--------------------+----------+------------+--------------------+--------------------+---------+--------+------------+-----------+----------+----------+\n",
      "only showing top 5 rows\n",
      "\n"
     ]
    }
   ],
   "source": [
    "match_df.show(5)"
   ]
  },
  {
   "cell_type": "code",
   "execution_count": 27,
   "id": "0328df96-2b74-4d81-af82-17d64d2cdfde",
   "metadata": {},
   "outputs": [],
   "source": [
    "Player_schema =  StructType([\n",
    "    StructField(\"player_sk\", IntegerType(), True),\n",
    "    StructField(\"player_id\", IntegerType(), True),\n",
    "    StructField(\"player_name\", StringType(), True),\n",
    "    StructField(\"dob\", DateType(), True),\n",
    "    StructField(\"batting_hand\", StringType(), True),\n",
    "    StructField(\"bowling_skill\", StringType(), True),\n",
    "    StructField(\"country_name\", StringType(), True)\n",
    "])"
   ]
  },
  {
   "cell_type": "code",
   "execution_count": 34,
   "id": "f03376e3-ed90-4deb-851b-adb9840694d7",
   "metadata": {},
   "outputs": [],
   "source": [
    "player_df = spark.read.schema(Player_schema).csv(\"Player.csv\",header=True)"
   ]
  },
  {
   "cell_type": "code",
   "execution_count": 35,
   "id": "1679bade-0c01-4f7e-8565-8ee9af80995a",
   "metadata": {},
   "outputs": [
    {
     "name": "stdout",
     "output_type": "stream",
     "text": [
      "+---------+---------+---------------+----+--------------+--------------------+------------+\n",
      "|player_sk|player_id|    player_name| dob|  batting_hand|       bowling_skill|country_name|\n",
      "+---------+---------+---------------+----+--------------+--------------------+------------+\n",
      "|        0|        1|     SC Ganguly|NULL| Left-hand bat|    Right-arm medium|       India|\n",
      "|        1|        2|    BB McCullum|NULL|Right-hand bat|    Right-arm medium| New Zealand|\n",
      "|        2|        3|     RT Ponting|NULL|Right-hand bat|    Right-arm medium|   Australia|\n",
      "|        3|        4|      DJ Hussey|NULL|Right-hand bat|  Right-arm offbreak|   Australia|\n",
      "|        4|        5|Mohammad Hafeez|NULL|Right-hand bat|  Right-arm offbreak|    Pakistan|\n",
      "|        5|        6|       R Dravid|NULL|Right-hand bat|  Right-arm offbreak|       India|\n",
      "|        6|        7|       W Jaffer|NULL|Right-hand bat|  Right-arm offbreak|       India|\n",
      "|        7|        8|        V Kohli|NULL|Right-hand bat|    Right-arm medium|       India|\n",
      "|        8|        9|      JH Kallis|NULL|Right-hand bat|Right-arm fast-me...|South Africa|\n",
      "|        9|       10|       CL White|NULL|Right-hand bat|     Legbreak googly|   Australia|\n",
      "|       10|       11|     MV Boucher|NULL|Right-hand bat|    Right-arm medium|South Africa|\n",
      "|       11|       12|        B Akhil|NULL|Right-hand bat|Right-arm medium-...|       India|\n",
      "|       12|       13|      AA Noffke|NULL|Right-hand bat|Right-arm fast-me...|   Australia|\n",
      "|       13|       14|        P Kumar|NULL|Right-hand bat|    Right-arm medium|       India|\n",
      "|       14|       15|         Z Khan|NULL|Right-hand bat|Left-arm fast-medium|       India|\n",
      "|       15|       16|       SB Joshi|NULL| Left-hand bat|Slow left-arm ort...|       India|\n",
      "|       16|       17|       PA Patel|NULL| Left-hand bat|                 N/A|       India|\n",
      "|       17|       18|      ML Hayden|NULL| Left-hand bat|    Right-arm medium|   Australia|\n",
      "|       18|       19|     MEK Hussey|NULL| Left-hand bat|    Right-arm medium|   Australia|\n",
      "|       19|       20|       MS Dhoni|NULL|Right-hand bat|    Right-arm medium|       India|\n",
      "+---------+---------+---------------+----+--------------+--------------------+------------+\n",
      "only showing top 20 rows\n",
      "\n"
     ]
    }
   ],
   "source": [
    "player_df.show()"
   ]
  },
  {
   "cell_type": "code",
   "execution_count": 33,
   "id": "05b75e3c-cc0f-492a-ae29-abd829a67596",
   "metadata": {},
   "outputs": [],
   "source": [
    "player_match_schema = StructType([\n",
    "    StructField(\"player_match_sk\", IntegerType(), True),\n",
    "    StructField(\"playermatch_key\", DecimalType(10, 0), True),  # Adjust precision and scale as needed\n",
    "    StructField(\"match_id\", IntegerType(), True),\n",
    "    StructField(\"player_id\", IntegerType(), True),\n",
    "    StructField(\"player_name\", StringType(), True),\n",
    "    StructField(\"dob\", DateType(), True),\n",
    "    StructField(\"batting_hand\", StringType(), True),\n",
    "    StructField(\"bowling_skill\", StringType(), True),\n",
    "    StructField(\"country_name\", StringType(), True),\n",
    "    StructField(\"role_desc\", StringType(), True),\n",
    "    StructField(\"player_team\", StringType(), True),\n",
    "    StructField(\"opposit_team\", StringType(), True),\n",
    "    StructField(\"season_year\", IntegerType(), True),  # PySpark does not have YearType, using IntegerType\n",
    "    StructField(\"is_manofthematch\", BooleanType(), True),\n",
    "    StructField(\"age_as_on_match\", IntegerType(), True),\n",
    "    StructField(\"isplayers_team_won\", BooleanType(), True),\n",
    "    StructField(\"batting_status\", StringType(), True),\n",
    "    StructField(\"bowling_status\", StringType(), True),\n",
    "    StructField(\"player_captain\", StringType(), True),\n",
    "    StructField(\"opposit_captain\", StringType(), True),\n",
    "    StructField(\"player_keeper\", StringType(), True),\n",
    "    StructField(\"opposit_keeper\", StringType(), True)\n",
    "])"
   ]
  },
  {
   "cell_type": "code",
   "execution_count": 36,
   "id": "086e2f3a-c31f-4cf7-ad7f-aa8b2fab1e31",
   "metadata": {},
   "outputs": [],
   "source": [
    "player_match_df = spark.read.schema(player_match_schema).csv(\"Player_match.csv\",header=True)"
   ]
  },
  {
   "cell_type": "code",
   "execution_count": 37,
   "id": "27c67c73-bfbe-4cd4-9c47-5c876ea07f02",
   "metadata": {},
   "outputs": [
    {
     "name": "stdout",
     "output_type": "stream",
     "text": [
      "+---------------+---------------+--------+---------+---------------+----+--------------+--------------------+------------+---------+--------------------+--------------------+-----------+----------------+---------------+------------------+--------------+--------------+--------------+---------------+-------------+--------------+\n",
      "|player_match_sk|playermatch_key|match_id|player_id|    player_name| dob|  batting_hand|       bowling_skill|country_name|role_desc|         player_team|        opposit_team|season_year|is_manofthematch|age_as_on_match|isplayers_team_won|batting_status|bowling_status|player_captain|opposit_captain|player_keeper|opposit_keeper|\n",
      "+---------------+---------------+--------+---------+---------------+----+--------------+--------------------+------------+---------+--------------------+--------------------+-----------+----------------+---------------+------------------+--------------+--------------+--------------+---------------+-------------+--------------+\n",
      "|             -1|             -1|      -1|       -1|            N/A|NULL|          NULL|                NULL|        NULL|     NULL|                NULL|                NULL|       NULL|            NULL|           NULL|              NULL|          NULL|          NULL|          NULL|           NULL|         NULL|          NULL|\n",
      "|          12694|           NULL|  335987|        6|       R Dravid|NULL|Right-hand bat|  Right-arm offbreak|       India|  Captain|Royal Challengers...|Kolkata Knight Ri...|       2008|            NULL|             35|              NULL|          NULL|          NULL|      R Dravid|     SC Ganguly|   MV Boucher|       WP Saha|\n",
      "|          12695|           NULL|  335987|        7|       W Jaffer|NULL|Right-hand bat|  Right-arm offbreak|       India|   Player|Royal Challengers...|Kolkata Knight Ri...|       2008|            NULL|             30|              NULL|          NULL|          NULL|      R Dravid|     SC Ganguly|   MV Boucher|       WP Saha|\n",
      "|          12696|           NULL|  335987|        8|        V Kohli|NULL|Right-hand bat|    Right-arm medium|       India|   Player|Royal Challengers...|Kolkata Knight Ri...|       2008|            NULL|             20|              NULL|          NULL|          NULL|      R Dravid|     SC Ganguly|   MV Boucher|       WP Saha|\n",
      "|          12697|           NULL|  335987|        9|      JH Kallis|NULL|Right-hand bat|Right-arm fast-me...|South Africa|   Player|Royal Challengers...|Kolkata Knight Ri...|       2008|            NULL|             33|              NULL|          NULL|          NULL|      R Dravid|     SC Ganguly|   MV Boucher|       WP Saha|\n",
      "|          12698|           NULL|  335987|       10|       CL White|NULL|Right-hand bat|     Legbreak googly|   Australia|   Player|Royal Challengers...|Kolkata Knight Ri...|       2008|            NULL|             25|              NULL|          NULL|          NULL|      R Dravid|     SC Ganguly|   MV Boucher|       WP Saha|\n",
      "|          12699|           NULL|  335987|       11|     MV Boucher|NULL|Right-hand bat|    Right-arm medium|South Africa|   Keeper|Royal Challengers...|Kolkata Knight Ri...|       2008|            NULL|             32|              NULL|          NULL|          NULL|      R Dravid|     SC Ganguly|   MV Boucher|       WP Saha|\n",
      "|          12700|           NULL|  335987|       12|        B Akhil|NULL|Right-hand bat|Right-arm medium-...|       India|   Player|Royal Challengers...|Kolkata Knight Ri...|       2008|            NULL|             31|              NULL|          NULL|          NULL|      R Dravid|     SC Ganguly|   MV Boucher|       WP Saha|\n",
      "|          12701|           NULL|  335987|       13|      AA Noffke|NULL|Right-hand bat|Right-arm fast-me...|   Australia|   Player|Royal Challengers...|Kolkata Knight Ri...|       2008|            NULL|             31|              NULL|          NULL|          NULL|      R Dravid|     SC Ganguly|   MV Boucher|       WP Saha|\n",
      "|          12702|           NULL|  335987|       14|        P Kumar|NULL|Right-hand bat|    Right-arm medium|       India|   Player|Royal Challengers...|Kolkata Knight Ri...|       2008|            NULL|             22|              NULL|          NULL|          NULL|      R Dravid|     SC Ganguly|   MV Boucher|       WP Saha|\n",
      "|          12703|           NULL|  335987|       15|         Z Khan|NULL|Right-hand bat|Left-arm fast-medium|       India|   Player|Royal Challengers...|Kolkata Knight Ri...|       2008|            NULL|             30|              NULL|          NULL|          NULL|      R Dravid|     SC Ganguly|   MV Boucher|       WP Saha|\n",
      "|          12704|           NULL|  335987|       16|       SB Joshi|NULL| Left-hand bat|Slow left-arm ort...|       India|   Player|Royal Challengers...|Kolkata Knight Ri...|       2008|            NULL|             38|              NULL|          NULL|          NULL|      R Dravid|     SC Ganguly|   MV Boucher|       WP Saha|\n",
      "|          12705|           NULL|  335987|        1|     SC Ganguly|NULL| Left-hand bat|    Right-arm medium|       India|  Captain|Kolkata Knight Ri...|Royal Challengers...|       2008|            NULL|             36|              NULL|          NULL|          NULL|    SC Ganguly|       R Dravid|      WP Saha|    MV Boucher|\n",
      "|          12706|           NULL|  335987|        2|    BB McCullum|NULL|Right-hand bat|    Right-arm medium| New Zealand|   Player|Kolkata Knight Ri...|Royal Challengers...|       2008|            NULL|             27|              NULL|          NULL|          NULL|    SC Ganguly|       R Dravid|      WP Saha|    MV Boucher|\n",
      "|          12707|           NULL|  335987|        3|     RT Ponting|NULL|Right-hand bat|    Right-arm medium|   Australia|   Player|Kolkata Knight Ri...|Royal Challengers...|       2008|            NULL|             34|              NULL|          NULL|          NULL|    SC Ganguly|       R Dravid|      WP Saha|    MV Boucher|\n",
      "|          12708|           NULL|  335987|        4|      DJ Hussey|NULL|Right-hand bat|  Right-arm offbreak|   Australia|   Player|Kolkata Knight Ri...|Royal Challengers...|       2008|            NULL|             31|              NULL|          NULL|          NULL|    SC Ganguly|       R Dravid|      WP Saha|    MV Boucher|\n",
      "|          12709|           NULL|  335987|        5|Mohammad Hafeez|NULL|Right-hand bat|  Right-arm offbreak|    Pakistan|   Player|Kolkata Knight Ri...|Royal Challengers...|       2008|            NULL|             28|              NULL|          NULL|          NULL|    SC Ganguly|       R Dravid|      WP Saha|    MV Boucher|\n",
      "|          12710|           NULL|  335987|       62|        WP Saha|NULL|Right-hand bat|                 N/A|       India|   Keeper|Kolkata Knight Ri...|Royal Challengers...|       2008|            NULL|             24|              NULL|          NULL|          NULL|    SC Ganguly|       R Dravid|      WP Saha|    MV Boucher|\n",
      "|          12711|           NULL|  335987|       63|      LR Shukla|NULL|Right-hand bat|    Right-arm medium|       India|   Player|Kolkata Knight Ri...|Royal Challengers...|       2008|            NULL|             27|              NULL|          NULL|          NULL|    SC Ganguly|       R Dravid|      WP Saha|    MV Boucher|\n",
      "|          12712|           NULL|  335987|       82|     AB Agarkar|NULL|Right-hand bat|      Right-arm fast|       India|   Player|Kolkata Knight Ri...|Royal Challengers...|       2008|            NULL|             31|              NULL|          NULL|          NULL|    SC Ganguly|       R Dravid|      WP Saha|    MV Boucher|\n",
      "+---------------+---------------+--------+---------+---------------+----+--------------+--------------------+------------+---------+--------------------+--------------------+-----------+----------------+---------------+------------------+--------------+--------------+--------------+---------------+-------------+--------------+\n",
      "only showing top 20 rows\n",
      "\n"
     ]
    }
   ],
   "source": [
    "player_match_df.show()"
   ]
  },
  {
   "cell_type": "code",
   "execution_count": 38,
   "id": "cab44b67-b22c-4182-87d8-ae9cf1f01449",
   "metadata": {},
   "outputs": [],
   "source": [
    "team_schema = StructType([\n",
    "    StructField(\"team_sk\", IntegerType(), True),\n",
    "    StructField(\"team_id\", IntegerType(), True),\n",
    "    StructField(\"team_name\", StringType(), True)\n",
    "])"
   ]
  },
  {
   "cell_type": "code",
   "execution_count": 39,
   "id": "452d5320-973e-4f1d-a7ce-031ce2c4267e",
   "metadata": {},
   "outputs": [],
   "source": [
    "team_df = spark.read.schema(team_schema).csv(\"Team.csv\",header = True)"
   ]
  },
  {
   "cell_type": "code",
   "execution_count": 49,
   "id": "4572e853-8b9d-4554-bd67-d3a40212602e",
   "metadata": {},
   "outputs": [
    {
     "name": "stdout",
     "output_type": "stream",
     "text": [
      "+-------+-------+--------------------+\n",
      "|team_sk|team_id|           team_name|\n",
      "+-------+-------+--------------------+\n",
      "|      0|      1|Kolkata Knight Ri...|\n",
      "|      1|      2|Royal Challengers...|\n",
      "|      2|      3| Chennai Super Kings|\n",
      "|      3|      4|     Kings XI Punjab|\n",
      "|      4|      5|    Rajasthan Royals|\n",
      "+-------+-------+--------------------+\n",
      "only showing top 5 rows\n",
      "\n"
     ]
    }
   ],
   "source": [
    "team_df.show(5)\n"
   ]
  },
  {
   "cell_type": "code",
   "execution_count": 41,
   "id": "f7b1f82c-216c-4d7d-94bd-137b821f1aa2",
   "metadata": {},
   "outputs": [],
   "source": [
    "## Transformation "
   ]
  },
  {
   "cell_type": "code",
   "execution_count": 47,
   "id": "39ab17b5-239b-4cf0-b1ff-c2c9abe57add",
   "metadata": {},
   "outputs": [],
   "source": [
    "## excluding wides and noballs for specific analysis \n",
    "ball_by_ball_df = ball_by_ball_df.filter((col(\"wides\") == 0) & (col(\"noballs\") == 0))"
   ]
  },
  {
   "cell_type": "code",
   "execution_count": 50,
   "id": "d78b2814-e171-46f6-8982-8a396f6aaf43",
   "metadata": {},
   "outputs": [
    {
     "name": "stdout",
     "output_type": "stream",
     "text": [
      "+--------+-------+-------+----------+------------+------------+------------------------+----------+-----------+----------+-----+-------+----+-------+-------+-------------+--------------+------+------+-------+----+------------+-------+-----------------+----------+----------------+-------------+----------+------+-------+-----------+------+----------+--------+----------------+---------+-------------------+-------------+----------------+----------+---------------+---------+------------------+--------------+--------------+------------+-------------+-----------+\n",
      "|match_id|over_id|ball_id|innings_no|team_batting|team_bowling|striker_batting_position|extra_type|runs_scored|extra_runs|wides|legbyes|byes|noballs|penalty|bowler_extras|      out_type|caught|bowled|run_out| lbw|retired_hurt|stumped|caught_and_bowled|hit_wicket|obstructingfeild|bowler_wicket|match_date|season|striker|non_striker|bowler|player_out|fielders|striker_match_sk|strikersk|nonstriker_match_sk|nonstriker_sk|fielder_match_sk|fielder_sk|bowler_match_sk|bowler_sk|playerout_match_sk|battingteam_sk|bowlingteam_sk|keeper_catch|player_out_sk|matchdatesk|\n",
      "+--------+-------+-------+----------+------------+------------+------------------------+----------+-----------+----------+-----+-------+----+-------+-------+-------------+--------------+------+------+-------+----+------------+-------+-----------------+----------+----------------+-------------+----------+------+-------+-----------+------+----------+--------+----------------+---------+-------------------+-------------+----------------+----------+---------------+---------+------------------+--------------+--------------+------------+-------------+-----------+\n",
      "|  598028|     15|      6|         1|           5|           2|                       6| No Extras|          4|         0|    0|      0|   0|      0|      0|            0|Not Applicable|  NULL|  NULL|   NULL|NULL|        NULL|   NULL|             NULL|      NULL|            NULL|         NULL|      NULL|  2013|    277|        104|    83|      NULL|    NULL|           20336|      276|              20333|          103|              -1|        -1|          20343|       82|                -1|             4|             1|        NULL|            0|       NULL|\n",
      "|  598028|     14|      1|         1|           5|           2|                       5| No Extras|          1|         0|    0|      0|   0|      0|      0|            0|Not Applicable|  NULL|  NULL|   NULL|NULL|        NULL|   NULL|             NULL|      NULL|            NULL|         NULL|      NULL|  2013|    104|          6|   346|      NULL|    NULL|           20333|      103|              20328|            5|              -1|        -1|          20348|      345|                -1|             4|             1|        NULL|            0|       NULL|\n",
      "|  598028|     14|      2|         1|           5|           2|                       3| No Extras|          1|         0|    0|      0|   0|      0|      0|            0|Not Applicable|  NULL|  NULL|   NULL|NULL|        NULL|   NULL|             NULL|      NULL|            NULL|         NULL|      NULL|  2013|      6|        104|   346|      NULL|    NULL|           20328|        5|              20333|          103|              -1|        -1|          20348|      345|                -1|             4|             1|        NULL|            0|       NULL|\n",
      "|  598028|     14|      3|         1|           5|           2|                       5| No Extras|          1|         0|    0|      0|   0|      0|      0|            0|Not Applicable|  NULL|  NULL|   NULL|NULL|        NULL|   NULL|             NULL|      NULL|            NULL|         NULL|      NULL|  2013|    104|          6|   346|      NULL|    NULL|           20333|      103|              20328|            5|              -1|        -1|          20348|      345|                -1|             4|             1|        NULL|            0|       NULL|\n",
      "|  598028|     14|      4|         1|           5|           2|                       3| No Extras|          0|         0|    0|      0|   0|      0|      0|            0|Not Applicable|  NULL|  NULL|   NULL|NULL|        NULL|   NULL|             NULL|      NULL|            NULL|         NULL|      NULL|  2013|      6|        104|   346|      NULL|    NULL|           20328|        5|              20333|          103|              -1|        -1|          20348|      345|                -1|             4|             1|        NULL|            0|       NULL|\n",
      "+--------+-------+-------+----------+------------+------------+------------------------+----------+-----------+----------+-----+-------+----+-------+-------+-------------+--------------+------+------+-------+----+------------+-------+-----------------+----------+----------------+-------------+----------+------+-------+-----------+------+----------+--------+----------------+---------+-------------------+-------------+----------------+----------+---------------+---------+------------------+--------------+--------------+------------+-------------+-----------+\n",
      "only showing top 5 rows\n",
      "\n"
     ]
    }
   ],
   "source": [
    "ball_by_ball_df.show(5)"
   ]
  },
  {
   "cell_type": "code",
   "execution_count": 52,
   "id": "e262cd86-f977-484b-9f49-7731df571448",
   "metadata": {},
   "outputs": [],
   "source": [
    "total_ans_avg_runs = ball_by_ball_df.groupby(\"match_id\",\"innings_no\").agg(\n",
    "    sum(\"runs_scored\").alias(\"total_runs\"),\n",
    "    avg(\"runs_scored\").alias(\"average_runs\")\n",
    ")"
   ]
  },
  {
   "cell_type": "code",
   "execution_count": 54,
   "id": "9bbc0669-a9ab-49d3-991a-b19d76ba8d85",
   "metadata": {},
   "outputs": [
    {
     "name": "stdout",
     "output_type": "stream",
     "text": [
      "+--------+----------+----------+------------------+\n",
      "|match_id|innings_no|total_runs|      average_runs|\n",
      "+--------+----------+----------+------------------+\n",
      "|  980940|         1|       138|              1.15|\n",
      "|  419132|         1|       162|              1.35|\n",
      "| 1082632|         2|       202|1.9238095238095239|\n",
      "|  335993|         2|       131|1.6794871794871795|\n",
      "| 1082617|         1|       123|1.0512820512820513|\n",
      "|  980910|         2|       156| 1.471698113207547|\n",
      "|  598057|         2|       141| 1.236842105263158|\n",
      "|  980966|         1|       143|1.1916666666666667|\n",
      "|  980982|         2|       169|1.4083333333333334|\n",
      "|  419114|         2|       130|1.1206896551724137|\n",
      "|  734042|         2|       146| 1.697674418604651|\n",
      "|  829772|         2|       111|1.3373493975903614|\n",
      "|  980934|         1|       130|1.0833333333333333|\n",
      "|  733976|         1|       142| 1.392156862745098|\n",
      "|  734018|         1|       132|               1.1|\n",
      "|  501257|         2|       143|1.4019607843137254|\n",
      "|  548328|         2|       123|             1.025|\n",
      "|  733994|         1|       122|1.0166666666666666|\n",
      "|  392244|         1|       135|             1.125|\n",
      "|  336000|         1|       147|             1.225|\n",
      "+--------+----------+----------+------------------+\n",
      "only showing top 20 rows\n",
      "\n"
     ]
    }
   ],
   "source": [
    "total_ans_avg_runs.show()"
   ]
  },
  {
   "cell_type": "code",
   "execution_count": 71,
   "id": "a1eb49b0-a690-4322-837c-5ebf0446df5c",
   "metadata": {},
   "outputs": [],
   "source": [
    "windowSpec = Window.partitionBy(\"match_id\",\"innings_no\").orderBy(\"over_id\")\n",
    "\n",
    "ball_by_ball_df = ball_by_ball_df.withColumn(\n",
    "    \"running_total_runs\",\n",
    "    sum(\"runs_scored\").over(windowSpec)\n",
    ")"
   ]
  },
  {
   "cell_type": "code",
   "execution_count": 82,
   "id": "2f4f4c55-8632-45ab-aa4f-d129fde17fdf",
   "metadata": {},
   "outputs": [
    {
     "name": "stdout",
     "output_type": "stream",
     "text": [
      "+------------------+-------+\n",
      "|running_total_runs|over_id|\n",
      "+------------------+-------+\n",
      "|                 0|      1|\n",
      "|                 0|      1|\n",
      "|                 0|      1|\n",
      "|                 0|      1|\n",
      "|                 0|      1|\n",
      "|                 0|      1|\n",
      "|                18|      2|\n",
      "|                18|      2|\n",
      "|                18|      2|\n",
      "|                18|      2|\n",
      "|                18|      2|\n",
      "|                18|      2|\n",
      "|                23|      3|\n",
      "|                23|      3|\n",
      "|                23|      3|\n",
      "|                23|      3|\n",
      "|                23|      3|\n",
      "|                23|      3|\n",
      "|                40|      4|\n",
      "|                40|      4|\n",
      "+------------------+-------+\n",
      "only showing top 20 rows\n",
      "\n"
     ]
    }
   ],
   "source": [
    "ball_by_ball_df.select([\"running_total_runs\",\"over_id\"]).show()\n"
   ]
  },
  {
   "cell_type": "code",
   "execution_count": 78,
   "id": "f1cf5dcc-0eea-4db4-95d5-37ed80869415",
   "metadata": {},
   "outputs": [],
   "source": [
    "ball_by_ball_df = ball_by_ball_df.withColumn(\n",
    "    \"high_impact\",\n",
    "    when((col(\"runs_scored\") + col(\"extra_runs\")>6 ) | (col(\"bowler_wicket\") == True), True).otherwise(False)\n",
    ")"
   ]
  },
  {
   "cell_type": "code",
   "execution_count": 83,
   "id": "0a220957-7f7b-49f2-9f18-c0ea6d208843",
   "metadata": {},
   "outputs": [
    {
     "name": "stdout",
     "output_type": "stream",
     "text": [
      "+-----------+\n",
      "|high_impact|\n",
      "+-----------+\n",
      "|      false|\n",
      "|      false|\n",
      "|      false|\n",
      "|      false|\n",
      "|      false|\n",
      "|      false|\n",
      "|      false|\n",
      "|      false|\n",
      "|      false|\n",
      "|      false|\n",
      "|      false|\n",
      "|      false|\n",
      "|      false|\n",
      "|      false|\n",
      "|      false|\n",
      "|      false|\n",
      "|      false|\n",
      "|      false|\n",
      "|      false|\n",
      "|      false|\n",
      "+-----------+\n",
      "only showing top 20 rows\n",
      "\n"
     ]
    }
   ],
   "source": [
    "ball_by_ball_df.select(\"high_impact\").show()"
   ]
  },
  {
   "cell_type": "code",
   "execution_count": 86,
   "id": "c8da4ff3-958e-4bb0-a13a-091367a134f0",
   "metadata": {},
   "outputs": [
    {
     "name": "stdout",
     "output_type": "stream",
     "text": [
      "+-------+-------+--------------------+\n",
      "|team_sk|team_id|           team_name|\n",
      "+-------+-------+--------------------+\n",
      "|      0|      1|Kolkata Knight Ri...|\n",
      "|      1|      2|Royal Challengers...|\n",
      "|      2|      3| Chennai Super Kings|\n",
      "|      3|      4|     Kings XI Punjab|\n",
      "|      4|      5|    Rajasthan Royals|\n",
      "|      5|      6|    Delhi Daredevils|\n",
      "|      6|      7|      Mumbai Indians|\n",
      "|      7|      8|     Deccan Chargers|\n",
      "|      8|      9|Kochi Tuskers Kerala|\n",
      "|      9|     10|       Pune Warriors|\n",
      "|     10|     11| Sunrisers Hyderabad|\n",
      "|     11|     12|Rising Pune Super...|\n",
      "|     12|     13|       Gujarat Lions|\n",
      "+-------+-------+--------------------+\n",
      "\n"
     ]
    }
   ],
   "source": [
    "team_df.show()"
   ]
  },
  {
   "cell_type": "code",
   "execution_count": 88,
   "id": "48325af9-a366-4431-ae8f-cd4d3f61733e",
   "metadata": {},
   "outputs": [
    {
     "name": "stdin",
     "output_type": "stream",
     "text": [
      "enter team name Gujarat Lions\n"
     ]
    }
   ],
   "source": [
    "name = input(\"enter team name\")"
   ]
  },
  {
   "cell_type": "code",
   "execution_count": 98,
   "id": "55696891-32ed-4ada-9030-233f8d385f91",
   "metadata": {},
   "outputs": [],
   "source": [
    "total_match_win = match_df.filter(\n",
    "    (match_df.match_winner == name)\n",
    ")\n",
    "total_win = total_match_win.agg(\n",
    "    count(\"*\")\n",
    ")"
   ]
  },
  {
   "cell_type": "code",
   "execution_count": 99,
   "id": "917b4be2-1834-4c7e-b9ab-7510291f6f57",
   "metadata": {},
   "outputs": [
    {
     "name": "stdout",
     "output_type": "stream",
     "text": [
      "+--------+\n",
      "|count(1)|\n",
      "+--------+\n",
      "|      13|\n",
      "+--------+\n",
      "\n"
     ]
    }
   ],
   "source": [
    "total_win.show()"
   ]
  },
  {
   "cell_type": "code",
   "execution_count": null,
   "id": "29b2980b-87bb-4319-954a-98caf48e9116",
   "metadata": {},
   "outputs": [],
   "source": []
  }
 ],
 "metadata": {
  "kernelspec": {
   "display_name": "Python 3 (ipykernel)",
   "language": "python",
   "name": "python3"
  },
  "language_info": {
   "codemirror_mode": {
    "name": "ipython",
    "version": 3
   },
   "file_extension": ".py",
   "mimetype": "text/x-python",
   "name": "python",
   "nbconvert_exporter": "python",
   "pygments_lexer": "ipython3",
   "version": "3.10.6"
  }
 },
 "nbformat": 4,
 "nbformat_minor": 5
}
